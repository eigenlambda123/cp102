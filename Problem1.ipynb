{
 "cells": [
  {
   "cell_type": "code",
   "execution_count": null,
   "id": "853c90fb-fa54-400d-8467-7cafbb6d3f84",
   "metadata": {},
   "outputs": [],
   "source": [
    "# Write a program that will accept input for the number of 25 centavos, \n",
    "# 1 peso, 5 pesos, 10 pesos, 20 pesos, 50 pesos, 100 pesos, 200 pesos\n",
    "# 500 pesos, and 1000 pesos\n",
    "# Compute and display the total amount of money\n",
    "\n",
    "nums = []\n",
    "while True:\n",
    "    user_input = input(\"Enter Num (Write 'calculate' to end): \").strip().lower()\n",
    "\n",
    "    if user_input == 'calculate':\n",
    "        print(f'sum: {sum(nums)}')\n",
    "        break\n",
    "    else:\n",
    "        try:\n",
    "            user_input = float(user_input)\n",
    "            if user_input < 0:\n",
    "                print(\"Negative values are not allowed. Please enter a positive number.\")\n",
    "            else:\n",
    "                nums.append(user_input)\n",
    "        except ValueError:\n",
    "            print(\"Invalid input. Please enter a valid number.\")\n"
   ]
  }
 ],
 "metadata": {
  "kernelspec": {
   "display_name": "Python 3 (ipykernel)",
   "language": "python",
   "name": "python3"
  },
  "language_info": {
   "codemirror_mode": {
    "name": "ipython",
    "version": 3
   },
   "file_extension": ".py",
   "mimetype": "text/x-python",
   "name": "python",
   "nbconvert_exporter": "python",
   "pygments_lexer": "ipython3",
   "version": "3.9.9"
  }
 },
 "nbformat": 4,
 "nbformat_minor": 5
}
