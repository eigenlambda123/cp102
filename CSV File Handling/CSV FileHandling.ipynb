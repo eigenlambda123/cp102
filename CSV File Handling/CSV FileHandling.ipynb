{
 "cells": [
  {
   "cell_type": "markdown",
   "id": "dc979435-809b-449c-9750-5a952c060605",
   "metadata": {},
   "source": [
    "## Imports"
   ]
  },
  {
   "cell_type": "code",
   "execution_count": 38,
   "id": "c2e6d660-15e5-4cd1-ac9c-2c88b081f2b7",
   "metadata": {},
   "outputs": [],
   "source": [
    "import csv\n",
    "from collections import defaultdict"
   ]
  },
  {
   "cell_type": "markdown",
   "id": "8b2a7c72-c5dc-4ab2-b2e8-11c0279a3345",
   "metadata": {},
   "source": [
    "## filename"
   ]
  },
  {
   "cell_type": "code",
   "execution_count": 39,
   "id": "88265880-8a58-44c8-bdff-3e6aa89f57ad",
   "metadata": {},
   "outputs": [],
   "source": [
    "filename = 'census.csv'"
   ]
  },
  {
   "cell_type": "markdown",
   "id": "c8f2ac02-d3ce-45b1-8d72-e3d8698fddfb",
   "metadata": {},
   "source": [
    "## File Handling"
   ]
  },
  {
   "cell_type": "code",
   "execution_count": 40,
   "id": "2327c6bb-bf34-4d3c-994e-f38734131e63",
   "metadata": {},
   "outputs": [],
   "source": [
    "# DataStructures to store results\n",
    "city_counts = defaultdict(int)\n",
    "max_pop = defaultdict(int)\n",
    "largest_city_in_state = {}\n",
    "min_city_per_state = {}\n",
    "seen_states = set()\n",
    "\n",
    "\n",
    "with open(file_path, newline='', encoding='utf-8') as census:\n",
    "    reader = csv.DictReader(census)\n",
    "    \n",
    "    for row in reader:\n",
    "        state = row['STNAME']\n",
    "        city = row['CTYNAME']\n",
    "        population = int(row['CENSUS2010POP'])\n",
    "        \n",
    "        state_city_key = (state, city)\n",
    "        if state_city_key in seen_states: # SKip duplicates\n",
    "            continue \n",
    "        seen_states.add(state_city_key)\n",
    "        \n",
    "        city_counts[state] += 1\n",
    "        max_pop[state] += population\n",
    "        \n",
    "        if state not in largest_city_in_state or population > largest_city_in_state[state][1]:\n",
    "            largest_city_in_state[state] = (city, population)\n",
    "        \n",
    "        if state not in min_city_per_state or population < min_city_per_state[state][1]:\n",
    "            min_city_per_state[state] = (city, population)\n",
    "\n",
    "# highest and lowest city counts\n",
    "highest_num_of_cities = max(city_counts, key=city_counts.get)\n",
    "lowest_num_of_cities = min(city_counts, key=city_counts.get)"
   ]
  },
  {
   "cell_type": "markdown",
   "id": "2ab8fc23-939b-45ff-9e23-0305df97f5dd",
   "metadata": {},
   "source": [
    "## User-Input Logic"
   ]
  },
  {
   "cell_type": "code",
   "execution_count": 43,
   "id": "fbfad603-68b9-4b41-a45e-ed996ec7cd77",
   "metadata": {},
   "outputs": [
    {
     "name": "stdout",
     "output_type": "stream",
     "text": [
      "\n",
      "Choose an option:\n",
      "1. Display the state with the highest number of cities\n",
      "2. Display the state with the lowest number of cities\n",
      "3. Display total 2010 population per state\n",
      "4. Display the city per state with the highest population\n",
      "5. Display the city per state with the lowest population\n",
      "6. Save results to CSV\n",
      "7. Exit\n"
     ]
    },
    {
     "name": "stdin",
     "output_type": "stream",
     "text": [
      "Enter your choice:  1\n"
     ]
    },
    {
     "name": "stdout",
     "output_type": "stream",
     "text": [
      "State with highest number of cities: Texas (255)\n",
      "\n",
      "Choose an option:\n",
      "1. Display the state with the highest number of cities\n",
      "2. Display the state with the lowest number of cities\n",
      "3. Display total 2010 population per state\n",
      "4. Display the city per state with the highest population\n",
      "5. Display the city per state with the lowest population\n",
      "6. Save results to CSV\n",
      "7. Exit\n"
     ]
    },
    {
     "name": "stdin",
     "output_type": "stream",
     "text": [
      "Enter your choice:  2\n"
     ]
    },
    {
     "name": "stdout",
     "output_type": "stream",
     "text": [
      "State with lowest number of cities: District of Columbia (1)\n",
      "\n",
      "Choose an option:\n",
      "1. Display the state with the highest number of cities\n",
      "2. Display the state with the lowest number of cities\n",
      "3. Display total 2010 population per state\n",
      "4. Display the city per state with the highest population\n",
      "5. Display the city per state with the lowest population\n",
      "6. Save results to CSV\n",
      "7. Exit\n"
     ]
    },
    {
     "name": "stdin",
     "output_type": "stream",
     "text": [
      "Enter your choice:  3\n"
     ]
    },
    {
     "name": "stdout",
     "output_type": "stream",
     "text": [
      "Total 2010 population per state:\n",
      "Alabama: 9559472\n",
      "Alaska: 1420462\n",
      "Arizona: 12784034\n",
      "Arkansas: 5831836\n",
      "California: 74507912\n",
      "Colorado: 10058392\n",
      "Connecticut: 7148194\n",
      "Delaware: 1795868\n",
      "District of Columbia: 601723\n",
      "Florida: 37602620\n",
      "Georgia: 19375306\n",
      "Hawaii: 2720602\n",
      "Idaho: 3135164\n",
      "Illinois: 25661264\n",
      "Indiana: 12967604\n",
      "Iowa: 6092710\n",
      "Kansas: 5706236\n",
      "Kentucky: 8678734\n",
      "Louisiana: 9066744\n",
      "Maine: 2656722\n",
      "Maryland: 11547104\n",
      "Massachusetts: 13095258\n",
      "Michigan: 19767280\n",
      "Minnesota: 10607850\n",
      "Mississippi: 5934594\n",
      "Missouri: 11977854\n",
      "Montana: 1978830\n",
      "Nebraska: 3652682\n",
      "Nevada: 5401102\n",
      "New Hampshire: 2632940\n",
      "New Jersey: 17583788\n",
      "New Mexico: 4118358\n",
      "New York: 38756204\n",
      "North Carolina: 19070966\n",
      "North Dakota: 1345182\n",
      "Ohio: 23073008\n",
      "Oklahoma: 7502702\n",
      "Oregon: 7662148\n",
      "Pennsylvania: 25404758\n",
      "Rhode Island: 2105134\n",
      "South Carolina: 9250728\n",
      "South Dakota: 1628360\n",
      "Tennessee: 12692210\n",
      "Texas: 50291122\n",
      "Utah: 5527770\n",
      "Vermont: 1251482\n",
      "Virginia: 15995826\n",
      "Washington: 13449080\n",
      "West Virginia: 3705988\n",
      "Wisconsin: 11373972\n",
      "Wyoming: 1127252\n",
      "\n",
      "Choose an option:\n",
      "1. Display the state with the highest number of cities\n",
      "2. Display the state with the lowest number of cities\n",
      "3. Display total 2010 population per state\n",
      "4. Display the city per state with the highest population\n",
      "5. Display the city per state with the lowest population\n",
      "6. Save results to CSV\n",
      "7. Exit\n"
     ]
    },
    {
     "name": "stdin",
     "output_type": "stream",
     "text": [
      "Enter your choice:  4\n"
     ]
    },
    {
     "name": "stdout",
     "output_type": "stream",
     "text": [
      "City per state with highest population:\n",
      "Alabama: Alabama - 4779736\n",
      "Alaska: Alaska - 710231\n",
      "Arizona: Arizona - 6392017\n",
      "Arkansas: Arkansas - 2915918\n",
      "California: California - 37253956\n",
      "Colorado: Colorado - 5029196\n",
      "Connecticut: Connecticut - 3574097\n",
      "Delaware: Delaware - 897934\n",
      "District of Columbia: District of Columbia - 601723\n",
      "Florida: Florida - 18801310\n",
      "Georgia: Georgia - 9687653\n",
      "Hawaii: Hawaii - 1360301\n",
      "Idaho: Idaho - 1567582\n",
      "Illinois: Illinois - 12830632\n",
      "Indiana: Indiana - 6483802\n",
      "Iowa: Iowa - 3046355\n",
      "Kansas: Kansas - 2853118\n",
      "Kentucky: Kentucky - 4339367\n",
      "Louisiana: Louisiana - 4533372\n",
      "Maine: Maine - 1328361\n",
      "Maryland: Maryland - 5773552\n",
      "Massachusetts: Massachusetts - 6547629\n",
      "Michigan: Michigan - 9883640\n",
      "Minnesota: Minnesota - 5303925\n",
      "Mississippi: Mississippi - 2967297\n",
      "Missouri: Missouri - 5988927\n",
      "Montana: Montana - 989415\n",
      "Nebraska: Nebraska - 1826341\n",
      "Nevada: Nevada - 2700551\n",
      "New Hampshire: New Hampshire - 1316470\n",
      "New Jersey: New Jersey - 8791894\n",
      "New Mexico: New Mexico - 2059179\n",
      "New York: New York - 19378102\n",
      "North Carolina: North Carolina - 9535483\n",
      "North Dakota: North Dakota - 672591\n",
      "Ohio: Ohio - 11536504\n",
      "Oklahoma: Oklahoma - 3751351\n",
      "Oregon: Oregon - 3831074\n",
      "Pennsylvania: Pennsylvania - 12702379\n",
      "Rhode Island: Rhode Island - 1052567\n",
      "South Carolina: South Carolina - 4625364\n",
      "South Dakota: South Dakota - 814180\n",
      "Tennessee: Tennessee - 6346105\n",
      "Texas: Texas - 25145561\n",
      "Utah: Utah - 2763885\n",
      "Vermont: Vermont - 625741\n",
      "Virginia: Virginia - 8001024\n",
      "Washington: Washington - 6724540\n",
      "West Virginia: West Virginia - 1852994\n",
      "Wisconsin: Wisconsin - 5686986\n",
      "Wyoming: Wyoming - 563626\n",
      "\n",
      "Choose an option:\n",
      "1. Display the state with the highest number of cities\n",
      "2. Display the state with the lowest number of cities\n",
      "3. Display total 2010 population per state\n",
      "4. Display the city per state with the highest population\n",
      "5. Display the city per state with the lowest population\n",
      "6. Save results to CSV\n",
      "7. Exit\n"
     ]
    },
    {
     "name": "stdin",
     "output_type": "stream",
     "text": [
      "Enter your choice:  5\n"
     ]
    },
    {
     "name": "stdout",
     "output_type": "stream",
     "text": [
      "City per state with lowest population:\n",
      "Alabama: Greene County - 9045\n",
      "Alaska: Yakutat City and Borough - 662\n",
      "Arizona: Greenlee County - 8437\n",
      "Arkansas: Calhoun County - 5368\n",
      "California: Alpine County - 1175\n",
      "Colorado: San Juan County - 699\n",
      "Connecticut: Windham County - 118428\n",
      "Delaware: Kent County - 162310\n",
      "District of Columbia: District of Columbia - 601723\n",
      "Florida: Liberty County - 8365\n",
      "Georgia: Taliaferro County - 1717\n",
      "Hawaii: Kalawao County - 90\n",
      "Idaho: Clark County - 982\n",
      "Illinois: Hardin County - 4320\n",
      "Indiana: Ohio County - 6128\n",
      "Iowa: Adams County - 4029\n",
      "Kansas: Greeley County - 1247\n",
      "Kentucky: Robertson County - 2282\n",
      "Louisiana: Tensas Parish - 5252\n",
      "Maine: Piscataquis County - 17535\n",
      "Maryland: Kent County - 20197\n",
      "Massachusetts: Nantucket County - 10172\n",
      "Michigan: Keweenaw County - 2156\n",
      "Minnesota: Traverse County - 3558\n",
      "Mississippi: Issaquena County - 1406\n",
      "Missouri: Worth County - 2171\n",
      "Montana: Petroleum County - 494\n",
      "Nebraska: Arthur County - 460\n",
      "Nevada: Esmeralda County - 783\n",
      "New Hampshire: Coos County - 33055\n",
      "New Jersey: Salem County - 66083\n",
      "New Mexico: Harding County - 695\n",
      "New York: Hamilton County - 4836\n",
      "North Carolina: Tyrrell County - 4407\n",
      "North Dakota: Slope County - 727\n",
      "Ohio: Vinton County - 13435\n",
      "Oklahoma: Cimarron County - 2475\n",
      "Oregon: Wheeler County - 1441\n",
      "Pennsylvania: Cameron County - 5085\n",
      "Rhode Island: Bristol County - 49875\n",
      "South Carolina: McCormick County - 10233\n",
      "South Dakota: Jones County - 1006\n",
      "Tennessee: Pickett County - 5077\n",
      "Texas: Loving County - 82\n",
      "Utah: Daggett County - 1059\n",
      "Vermont: Essex County - 6306\n",
      "Virginia: Highland County - 2321\n",
      "Washington: Garfield County - 2266\n",
      "West Virginia: Wirt County - 5717\n",
      "Wisconsin: Menominee County - 4232\n",
      "Wyoming: Niobrara County - 2484\n",
      "\n",
      "Choose an option:\n",
      "1. Display the state with the highest number of cities\n",
      "2. Display the state with the lowest number of cities\n",
      "3. Display total 2010 population per state\n",
      "4. Display the city per state with the highest population\n",
      "5. Display the city per state with the lowest population\n",
      "6. Save results to CSV\n",
      "7. Exit\n"
     ]
    },
    {
     "name": "stdin",
     "output_type": "stream",
     "text": [
      "Enter your choice:  6\n"
     ]
    },
    {
     "name": "stdout",
     "output_type": "stream",
     "text": [
      "results saved in 'US2010Census.csv'\n",
      "\n",
      "Choose an option:\n",
      "1. Display the state with the highest number of cities\n",
      "2. Display the state with the lowest number of cities\n",
      "3. Display total 2010 population per state\n",
      "4. Display the city per state with the highest population\n",
      "5. Display the city per state with the lowest population\n",
      "6. Save results to CSV\n",
      "7. Exit\n"
     ]
    },
    {
     "name": "stdin",
     "output_type": "stream",
     "text": [
      "Enter your choice:  7\n"
     ]
    },
    {
     "name": "stdout",
     "output_type": "stream",
     "text": [
      "Bye :]\n"
     ]
    }
   ],
   "source": [
    "# User interaction\n",
    "while True:\n",
    "    print(\"\\nChoose an option:\")\n",
    "    print(\"1. Display the state with the highest number of cities\")\n",
    "    print(\"2. Display the state with the lowest number of cities\")\n",
    "    print(\"3. Display total 2010 population per state\")\n",
    "    print(\"4. Display the city per state with the highest population\")\n",
    "    print(\"5. Display the city per state with the lowest population\")\n",
    "    print(\"6. Save results to CSV\")\n",
    "    print(\"7. Exit\")\n",
    "    \n",
    "    choice = input(\"Enter your choice: \")\n",
    "    \n",
    "    if choice == \"1\":\n",
    "        print(f\"State with highest number of cities: {highest_num_of_cities} ({city_counts[highest_num_of_cities]})\")\n",
    "        \n",
    "    elif choice == \"2\":\n",
    "        print(f\"State with lowest number of cities: {lowest_num_of_cities} ({city_counts[lowest_num_of_cities]})\")\n",
    "        \n",
    "    elif choice == \"3\":\n",
    "        print(\"Total 2010 population per state:\")\n",
    "        for state, population in max_pop.items():\n",
    "            print(f\"{state}: {population}\")\n",
    "            \n",
    "    elif choice == \"4\":\n",
    "        print(\"City per state with highest population:\")\n",
    "        for state, (city, population) in largest_city_in_state.items():\n",
    "            print(f\"{state}: {city} - {population}\")\n",
    "            \n",
    "    elif choice == \"5\":\n",
    "        print(\"City per state with lowest population:\")\n",
    "        for state, (city, population) in min_city_per_state.items():\n",
    "            print(f\"{state}: {city} - {population}\")\n",
    "            \n",
    "    elif choice == \"6\":\n",
    "        with open(\"US2010Census.csv\", mode=\"w\", newline='', encoding='utf-8') as createdFile:\n",
    "            writer = csv.writer(createdFile)\n",
    "            writer.writerow([\"State\", \"Total Cities\", \"Total 2010 Population\"])\n",
    "            for state in city_counts:\n",
    "                writer.writerow([state, city_counts[state], max_pop[state]])\n",
    "        print(\"results saved in 'US2010Census.csv'\")\n",
    "        \n",
    "    elif choice == \"7\":\n",
    "        print(\"Bye :]\")\n",
    "        break\n",
    "        \n",
    "    else:\n",
    "        print(\"Invalid choice. Please choose a valid one.\")"
   ]
  },
  {
   "cell_type": "code",
   "execution_count": null,
   "id": "9572841a-5bf8-4eaf-ba85-69caa39e56a4",
   "metadata": {},
   "outputs": [],
   "source": []
  }
 ],
 "metadata": {
  "kernelspec": {
   "display_name": "Python 3 (ipykernel)",
   "language": "python",
   "name": "python3"
  },
  "language_info": {
   "codemirror_mode": {
    "name": "ipython",
    "version": 3
   },
   "file_extension": ".py",
   "mimetype": "text/x-python",
   "name": "python",
   "nbconvert_exporter": "python",
   "pygments_lexer": "ipython3",
   "version": "3.10.0"
  }
 },
 "nbformat": 4,
 "nbformat_minor": 5
}
