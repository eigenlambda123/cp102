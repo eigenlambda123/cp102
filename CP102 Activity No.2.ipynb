{
 "cells": [
  {
   "cell_type": "markdown",
   "id": "3fda9276-182d-44ab-a7a5-271aafa5dbb1",
   "metadata": {},
   "source": [
    "## CP102 Activity No.2\n",
    "**Rodmark Bernard A. Villa**"
   ]
  },
  {
   "cell_type": "code",
   "execution_count": 1,
   "id": "bc9d085a-cfa4-4264-8ced-5fdf042470f0",
   "metadata": {},
   "outputs": [
    {
     "name": "stdout",
     "output_type": "stream",
     "text": [
      "Python include the following:\n",
      "Python is a high-level language intended to be relatively\n",
      "Python is an interpreter and when we are running Python interactively,\n",
      "Python program to count the words than it would be to manually\n",
      "Python takes our perfectly written programs and rejects them as\n",
      "Python is much more like a dog, loving you unconditionally, having a few\n",
      "Python does its best to point right at the line and character where\n",
      "\n",
      "The sum of all numbers is 445833\n",
      "The highest number is 9795\n",
      "The total vowel count is 8361\n",
      "Python word count is 103\n"
     ]
    }
   ],
   "source": [
    "import re\n",
    "\n",
    "# Read FILE\n",
    "with open('regex_sum_42.txt', 'r') as file:\n",
    "    lines = file.readlines()\n",
    "\n",
    "# Reading all text with Python as the first word\n",
    "text_with_python = []\n",
    "for line in lines:\n",
    "    if line.startswith(\"Python\"):\n",
    "        text_with_python.append(line.strip())\n",
    "\n",
    "# For Counting\n",
    "numbers = []\n",
    "vowel = 0\n",
    "py_count = 0\n",
    "\n",
    "for line in lines:\n",
    "    numbers_found = re.findall(r'\\d+', line)  # Find nums\n",
    "    for num in numbers_found:\n",
    "        numbers.append(int(num))\n",
    "    \n",
    "    vowels_found = re.findall(r'[aeiouAEIOU]', line)  # Find vowels\n",
    "    for _ in vowels_found:\n",
    "        vowel += 1\n",
    "        \n",
    "    python_word = re.findall(r'Python', line)  # Find Python first occurrences\n",
    "    for _ in python_word:\n",
    "        py_count += 1\n",
    "\n",
    "# count total sum\n",
    "def count_sum(numbers):\n",
    "    total = 0\n",
    "    for i in numbers:\n",
    "        total += i\n",
    "    return total\n",
    "\n",
    "# find max num\n",
    "def find_max(numbers):\n",
    "    max_num = numbers[0]\n",
    "    for num in numbers:\n",
    "        if num > max_num:\n",
    "            max_num = num\n",
    "    return max_num\n",
    "\n",
    "#res\n",
    "total_sum = count_sum(numbers)\n",
    "highest_number = find_max(numbers)\n",
    "\n",
    "\n",
    "for line in text_with_python:\n",
    "    print(line)\n",
    "    \n",
    "print()\n",
    "print(\"The sum of all numbers is\", total_sum)\n",
    "print(\"The highest number is\", highest_number)\n",
    "print(\"The total vowel count is\", vowel)\n",
    "print(\"Python word count is\", py_count)\n"
   ]
  },
  {
   "cell_type": "code",
   "execution_count": null,
   "id": "dd7d797a-c6c5-44ec-8186-69c8b2c5114d",
   "metadata": {},
   "outputs": [],
   "source": []
  }
 ],
 "metadata": {
  "kernelspec": {
   "display_name": "Python 3 (ipykernel)",
   "language": "python",
   "name": "python3"
  },
  "language_info": {
   "codemirror_mode": {
    "name": "ipython",
    "version": 3
   },
   "file_extension": ".py",
   "mimetype": "text/x-python",
   "name": "python",
   "nbconvert_exporter": "python",
   "pygments_lexer": "ipython3",
   "version": "3.10.0"
  }
 },
 "nbformat": 4,
 "nbformat_minor": 5
}
