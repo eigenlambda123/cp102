{
 "cells": [
  {
   "cell_type": "code",
   "execution_count": null,
   "id": "0a4049a5-f4ce-4bff-a6e6-16a914f0b380",
   "metadata": {},
   "outputs": [],
   "source": [
    "# Accept string input.\n",
    "# Display if the string is Palindrome or Not a Palindrome\n",
    "\n",
    "user_input = input(\"Write anything: \").lower()\n",
    "\n",
    "def palindrome(user_input):\n",
    "    # Remove non alphanumeric characters and spaces\n",
    "    cleaned_input = ''.join(char for char in user_input if char.isalnum())\n",
    "    \n",
    "    pointer1 = 0\n",
    "    pointer2 = len(cleaned_input) - 1\n",
    "\n",
    "    while pointer1 < pointer2:\n",
    "        if cleaned_input[pointer1] != cleaned_input[pointer2]:\n",
    "            return 'The word you gave is not a palindrome'\n",
    "        pointer1 += 1\n",
    "        pointer2 -= 1\n",
    "\n",
    "    return 'The word you gave is a palindrome'\n",
    "\n",
    "print(palindrome(user_input))"
   ]
  }
 ],
 "metadata": {
  "kernelspec": {
   "display_name": "Python 3 (ipykernel)",
   "language": "python",
   "name": "python3"
  },
  "language_info": {
   "codemirror_mode": {
    "name": "ipython",
    "version": 3
   },
   "file_extension": ".py",
   "mimetype": "text/x-python",
   "name": "python",
   "nbconvert_exporter": "python",
   "pygments_lexer": "ipython3",
   "version": "3.9.9"
  }
 },
 "nbformat": 4,
 "nbformat_minor": 5
}
