{
 "cells": [
  {
   "cell_type": "code",
   "execution_count": null,
   "id": "392444e1-40d4-4a66-a108-8c8d9e29aa18",
   "metadata": {},
   "outputs": [],
   "source": [
    "# Accept string input.\n",
    "# Count vowel and consonant characters in the string.\n",
    "# Display the string in reverse order.\n",
    "\n",
    "vowels = ['a', 'e', 'i', 'o', 'u']\n",
    "v_counter = 0\n",
    "c_counter = 0\n",
    "\n",
    "user_input = input(\"Write anything: \").lower()\n",
    "\n",
    "# Vowel Count\n",
    "for i in user_input:\n",
    "    if i in vowels:\n",
    "        v_counter += 1\n",
    "    else:\n",
    "        if i != ' ':\n",
    "            c_counter += 1\n",
    "        else:\n",
    "            continue\n",
    "\n",
    "print(f'vowels count: {v_counter}')\n",
    "print(f'consonant count: {c_counter}')\n",
    "print(f'reverse string: {user_input[::-1]}')"
   ]
  }
 ],
 "metadata": {
  "kernelspec": {
   "display_name": "Python 3 (ipykernel)",
   "language": "python",
   "name": "python3"
  },
  "language_info": {
   "codemirror_mode": {
    "name": "ipython",
    "version": 3
   },
   "file_extension": ".py",
   "mimetype": "text/x-python",
   "name": "python",
   "nbconvert_exporter": "python",
   "pygments_lexer": "ipython3",
   "version": "3.9.9"
  }
 },
 "nbformat": 4,
 "nbformat_minor": 5
}
