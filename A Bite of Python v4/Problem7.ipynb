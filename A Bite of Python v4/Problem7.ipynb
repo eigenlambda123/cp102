{
 "cells": [
  {
   "cell_type": "code",
   "execution_count": null,
   "id": "e16d079f-6d6f-4607-bd5c-12cecf600522",
   "metadata": {},
   "outputs": [],
   "source": [
    "# Create a program that will ask user to input the nth Fibonacci number series.\n",
    "# Compute and display the Fibonacci number based on the input\n",
    "# Function for nth Fibonacci number\n",
    "\n",
    "user_input = int(input(\"Give Number: \"))\n",
    "\n",
    "def Fibonacci(n):\n",
    "    if n<= 0:\n",
    "        print(\"Incorrect input\")\n",
    "    elif n == 1:\n",
    "        return 0\n",
    "    elif n == 2:\n",
    "        return 1\n",
    "    else:\n",
    "        return Fibonacci(n-1)+Fibonacci(n-2)\n",
    "\n",
    "print(Fibonacci(user_input))"
   ]
  }
 ],
 "metadata": {
  "kernelspec": {
   "display_name": "Python 3 (ipykernel)",
   "language": "python",
   "name": "python3"
  },
  "language_info": {
   "codemirror_mode": {
    "name": "ipython",
    "version": 3
   },
   "file_extension": ".py",
   "mimetype": "text/x-python",
   "name": "python",
   "nbconvert_exporter": "python",
   "pygments_lexer": "ipython3",
   "version": "3.9.9"
  }
 },
 "nbformat": 4,
 "nbformat_minor": 5
}
