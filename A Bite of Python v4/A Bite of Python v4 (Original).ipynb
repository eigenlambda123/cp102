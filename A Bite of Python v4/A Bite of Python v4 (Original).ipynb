{
 "cells": [
  {
   "cell_type": "markdown",
   "metadata": {},
   "source": [
    "# <center><font size = 6 color = 'brown'>A Bite of Python: An Introductory Course to Computer Programming using Python</font></center>"
   ]
  },
  {
   "cell_type": "markdown",
   "metadata": {},
   "source": [
    "### <center><font size = 5>Rodrigo C. Belleza Jr.</font><br/>College of Computing and Multimedia Studies<br/>Manuel S. Enverga University Foundation</center>\n"
   ]
  },
  {
   "cell_type": "markdown",
   "metadata": {},
   "source": [
    "### <font color = 'blue'>Variable and Printing Output</font>"
   ]
  },
  {
   "cell_type": "markdown",
   "metadata": {},
   "source": [
    "To create and use a variable in Python, simply assign a value to it. The data type of the variable is based on its current value. In the following sample codes, we created variable <i>x</i> with string value <i>\"Welcome to Python\"</i>. We use the <i><b>print()</b></i> function to display the value of variable <i>x</i> in the console. The <i><b>type()</b></i> function is used to determine the data type of variable <i>x</i>.\n",
    "\n",
    "Python is dynamically type programming language. In the succeeding line of codes, we assigned an integer value to variable <i>x</i>. Now, the data type of variable <i>x</i> was changed from string to integer.\n",
    "\n",
    "The ***print()*** function by default automatically create a new line after displaying a string. You can use the ***end*** parameter of the print () function and assign a character that you want to be printed after the displaying a string. You can use <i><b>comma (,)</b></i> in the <i>print()</i> function to concatenate string with the value of variable. Using comma to concatenate string with <i>print()</i> function automatically append space. You can create comment in Python using <i><b>#</b></i>."
   ]
  },
  {
   "cell_type": "code",
   "execution_count": null,
   "metadata": {
    "scrolled": true
   },
   "outputs": [],
   "source": [
    "# Assign string value to variable x\n",
    "name = \"Rodrigo\"\n",
    "welcome = \"Welcome to Python Programming\"\n",
    "# Display the value of variable x\n",
    "print(\"Hello \", end = \"\")\n",
    "print(name)\n",
    "print (welcome)\n",
    "# type () return the data type of variable x\n",
    "print(\"The data type of the variable is\", type(welcome)) \n",
    "# Assign integer value to variable x\n",
    "x = 123 \n",
    "print (welcome)\n",
    "print(\"The data type of the variable is\", type(welcome))"
   ]
  },
  {
   "cell_type": "markdown",
   "metadata": {},
   "source": [
    "### <font color = 'blue'>Data Types</font>\n",
    "\n",
    "**int** (123, 1000)<br> \n",
    "**float** (1.75, 1000.580)<br>\n",
    "**string** (\"Python\", 'Anaconda', \"500\")<br>\n",
    "**boolean** (True, False)"
   ]
  },
  {
   "cell_type": "code",
   "execution_count": null,
   "metadata": {},
   "outputs": [],
   "source": [
    "var = eval(input(\"Enter a value :\"))\n",
    "print(\"The data type is\", type(var))"
   ]
  },
  {
   "cell_type": "markdown",
   "metadata": {},
   "source": [
    "### <font color = 'blue'>Input, Arithmetic Expression, and Data Type Conversion Function</font>"
   ]
  },
  {
   "cell_type": "markdown",
   "metadata": {},
   "source": [
    "The <i><b>input()</b></i> function is used to accept input from the console. The <i>input()</i> return a string value."
   ]
  },
  {
   "cell_type": "code",
   "execution_count": null,
   "metadata": {},
   "outputs": [],
   "source": [
    "name = input (\"Enter your name : \")\n",
    "print(\"Welcome to Python\", name + \".\") # + can be used to concatenate\n",
    "print(\"Your name's length is\", len(name)) # len() function return the number of characters of the string variable"
   ]
  },
  {
   "cell_type": "markdown",
   "metadata": {},
   "source": [
    "You can use the <b><i>eval()</i></b> function to evaluation the value and convert to appropriate data type."
   ]
  },
  {
   "cell_type": "code",
   "execution_count": null,
   "metadata": {},
   "outputs": [],
   "source": [
    "gross = eval(input(\"Enter Gross Salary :\"))\n",
    "deduction = eval(input(\"Enter Total Deduction : \"))\n",
    "net = gross - deduction\n",
    "print(\"Your net salary is\", net)"
   ]
  },
  {
   "cell_type": "markdown",
   "metadata": {},
   "source": [
    "You can also use <b><i>int()</i></b> function to convert the value to integer, <b><i>str()</i></b> to string, and <b><i>float()</b></i> to convert to real number value."
   ]
  },
  {
   "cell_type": "code",
   "execution_count": null,
   "metadata": {},
   "outputs": [],
   "source": [
    "c = input(\"Enter temperature in degree celsius -> \")\n",
    "f = float(c) * 9/5 + 32\n",
    "print(c, \"degree celsius is equivalent to\", f,\"fahrenheit\")"
   ]
  },
  {
   "cell_type": "markdown",
   "metadata": {},
   "source": [
    "### <font color = 'blue'>Types of Operators</font>\n",
    "* **Arithmetic Operators** - use for computation\n",
    "* **Assignment Operators** - use to assign values to variables\n",
    "* **Relational Operators** - use for comparison\n",
    "* **Logical Operators** - use to combine conditions"
   ]
  },
  {
   "cell_type": "markdown",
   "metadata": {},
   "source": [
    "### <font color = 'blue'>Operator Precedence</font>\n",
    "\n",
    "Evaluate the operators in an expression on the following order:<br><br>\n",
    "1. Arithmetic Operators<br>\n",
    "2. Relational Operators<br>\n",
    "3. Logical Operators<br>"
   ]
  },
  {
   "cell_type": "markdown",
   "metadata": {},
   "source": [
    "The following are the arithmetic operators in Python: \n",
    "\n",
    "\\+ Addition<br>\n",
    "\\- Subtraction<br>\n",
    "\\* Multiplication<br>\n",
    "\\/ Division<br>\n",
    "\\% Modulus Division (remainder)<br>\n",
    "\\** Exponentiation<br>\n",
    "\\// Floor division (integer division)"
   ]
  },
  {
   "cell_type": "code",
   "execution_count": null,
   "metadata": {},
   "outputs": [],
   "source": [
    "n1 = eval(input(\"Enter the first number : \"))\n",
    "n2 = eval(input(\"Enter the second number : \"))\n",
    "s = n1 + n2\n",
    "d = n1 - n2\n",
    "p = n1 * n2\n",
    "q = n1 / n2\n",
    "print(\"\\nThe sum of\",n1,\"and\",n2,\"is\",s) # backlash code is support by Python. \\n creates a new line\n",
    "print(\"The difference of\",n1,\"and\",n2,\"is\",d)\n",
    "print(\"The product of\",n1,\"and\",n2,\"is\",p)\n",
    "print(\"The quotient of\",n1,\"and\",n2,\"is\",q)\n",
    "print(\"Exponent by 2 of\",n1,\"is\",n1**2)\n",
    "print(\"The remainder of\",n1,\"and\",n2,\"is\",n1 % n2)\n",
    "print(\"The floor division of\",n1,\"and\",n2,\"is\",n1//n2)"
   ]
  },
  {
   "cell_type": "markdown",
   "metadata": {},
   "source": [
    "### <font color = 'blue'>Arithmetic Operator Precedence</font>"
   ]
  },
  {
   "cell_type": "markdown",
   "metadata": {},
   "source": [
    "Evaluate from left to right, then evaluate on the following order:<br>\n",
    "\n",
    "\\( )<br>\n",
    "\\* / % ** //<br>\n",
    "\\+ -"
   ]
  },
  {
   "cell_type": "code",
   "execution_count": null,
   "metadata": {},
   "outputs": [],
   "source": [
    "print(5+5*5)"
   ]
  },
  {
   "cell_type": "code",
   "execution_count": null,
   "metadata": {},
   "outputs": [],
   "source": [
    "print(100 + 20 * 10 / 2 - 5)"
   ]
  },
  {
   "cell_type": "code",
   "execution_count": null,
   "metadata": {},
   "outputs": [],
   "source": [
    "print(85 - (12 + 3) + 23 % 10 * 5 / 2 )"
   ]
  },
  {
   "cell_type": "code",
   "execution_count": null,
   "metadata": {},
   "outputs": [],
   "source": [
    "print(5 + 5**3 // 10 * 3 - 15)"
   ]
  },
  {
   "cell_type": "markdown",
   "metadata": {},
   "source": [
    "### <font color = 'blue'>Assignment Operators</font>\n",
    "\n",
    "|Operator   |Example   |Same As      |\n",
    "|:----------|:--------:|------------:|\n",
    "|=          | x = 10   | x = 10      |\n",
    "|+=         | x += 10  | x = x + 10  |\n",
    "|-=         | x -= 10  | x = x - 10  |\n",
    "|*=         | x \\*= 10 | x = x \\* 10 |\n",
    "|/=         | x /= 10  | x = x / 10  |\n"
   ]
  },
  {
   "cell_type": "code",
   "execution_count": null,
   "metadata": {},
   "outputs": [],
   "source": [
    "x = 10\n",
    "print(\"The value of variable x is\", x)"
   ]
  },
  {
   "cell_type": "code",
   "execution_count": null,
   "metadata": {},
   "outputs": [],
   "source": [
    "x = 10\n",
    "x = x + 10\n",
    "print(\"The value of variable x is\", x)"
   ]
  },
  {
   "cell_type": "code",
   "execution_count": null,
   "metadata": {},
   "outputs": [],
   "source": [
    "x = 10\n",
    "x += 10\n",
    "print(\"The value of variable x is\", x)"
   ]
  },
  {
   "cell_type": "markdown",
   "metadata": {},
   "source": [
    "### <font color = 'green'>Test yourself</font>"
   ]
  },
  {
   "cell_type": "code",
   "execution_count": null,
   "metadata": {},
   "outputs": [],
   "source": [
    "# Write a program that will accept input for the number of 25 centavos, \n",
    "# 1 peso, 5 pesos, 10 pesos, 20 pesos, 50 pesos, 100 pesos, 200 pesos\n",
    "# 500 pesos, and 1000 pesos\n",
    "# Compute and display the total amount of money\n"
   ]
  },
  {
   "cell_type": "markdown",
   "metadata": {},
   "source": [
    "### <font color = 'blue'>Relational Operators</font>"
   ]
  },
  {
   "cell_type": "markdown",
   "metadata": {},
   "source": [
    "\\> greater than<br>\n",
    "\\>= greater than or equal<br>\n",
    "\\< less than<br>\n",
    "\\<= less than or equal<br>\n",
    "\\== equal<br>\n",
    "\\!= not equal"
   ]
  },
  {
   "cell_type": "code",
   "execution_count": null,
   "metadata": {},
   "outputs": [],
   "source": [
    "print(75 > 100)"
   ]
  },
  {
   "cell_type": "code",
   "execution_count": null,
   "metadata": {},
   "outputs": [],
   "source": [
    "print(80 / 8 <= 10 )"
   ]
  },
  {
   "cell_type": "code",
   "execution_count": null,
   "metadata": {},
   "outputs": [],
   "source": [
    "print (5*5 != 25%10)"
   ]
  },
  {
   "cell_type": "code",
   "execution_count": null,
   "metadata": {},
   "outputs": [],
   "source": [
    "print(10 == 100 / 10)"
   ]
  },
  {
   "cell_type": "markdown",
   "metadata": {},
   "source": [
    "### <font color = 'blue'>Logical Operators</font>"
   ]
  },
  {
   "cell_type": "markdown",
   "metadata": {},
   "source": [
    "|Operator     |Description                                        |\n",
    "|:------------|:--------------------------------------------------|\n",
    "|**and**      | Returns True if **both** statements are true      |\n",
    "|**or**       | Returns True if **any** of the statements is true | \n",
    "|**not**      | **Reverse** the result                            |\n"
   ]
  },
  {
   "cell_type": "markdown",
   "metadata": {},
   "source": [
    "### and Logical Operator"
   ]
  },
  {
   "cell_type": "markdown",
   "metadata": {},
   "source": [
    "|Statement       |Result      |\n",
    "|:---------------|:-----------|\n",
    "|False **and** False | False      |\n",
    "|True **and** False  | False      | \n",
    "|False **and** True  | False      |\n",
    "|True **and** True  | True       |"
   ]
  },
  {
   "cell_type": "code",
   "execution_count": null,
   "metadata": {},
   "outputs": [],
   "source": [
    "print(5*5 >= 25 and 13%10 == 9/3)"
   ]
  },
  {
   "cell_type": "code",
   "execution_count": null,
   "metadata": {},
   "outputs": [],
   "source": [
    "print(10 > 100/10 and 50 != 5**2)"
   ]
  },
  {
   "cell_type": "markdown",
   "metadata": {},
   "source": [
    "### or Logical Operator"
   ]
  },
  {
   "cell_type": "markdown",
   "metadata": {},
   "source": [
    "|Statement           |Result      |\n",
    "|:-------------------|:-----------|\n",
    "|False **or** False  | False      |\n",
    "|True **or** False   | True       | \n",
    "|False **or** True   | True       |\n",
    "|True **or** True    | True       |"
   ]
  },
  {
   "cell_type": "code",
   "execution_count": null,
   "metadata": {},
   "outputs": [],
   "source": [
    "print(10 >= 50 or 8 % 5 < 8 )"
   ]
  },
  {
   "cell_type": "code",
   "execution_count": null,
   "metadata": {},
   "outputs": [],
   "source": [
    "print(30 != 5+5*5 or 25 == 10+5)"
   ]
  },
  {
   "cell_type": "markdown",
   "metadata": {},
   "source": [
    "### not Logical Operator"
   ]
  },
  {
   "cell_type": "markdown",
   "metadata": {},
   "source": [
    "|Statement  |Result     |\n",
    "|:----------|:----------|\n",
    "|**not** False  | True      |\n",
    "|**not** True   | False     | "
   ]
  },
  {
   "cell_type": "code",
   "execution_count": null,
   "metadata": {},
   "outputs": [],
   "source": [
    "print(not 6 > 3*3)"
   ]
  },
  {
   "cell_type": "code",
   "execution_count": null,
   "metadata": {},
   "outputs": [],
   "source": [
    "print(not 50 >= 5*5+10)"
   ]
  },
  {
   "cell_type": "markdown",
   "metadata": {},
   "source": [
    "### <font color = 'blue'>Selection Statement</font>"
   ]
  },
  {
   "cell_type": "markdown",
   "metadata": {},
   "source": [
    "Selection statement is used to select which statement or block of statements will be executed based on the result of the selection statement condition. In Python, you can use <b><i>if else</b></i> statement to test single condition and execute block of statements in the <b><i>if</b></i> part if the condition is <b><i>True</b></i>; otherwise block of statements in the <b><i>else</b></i> part will be executed. The <b><i>else</b></i> part is optional, you will use it if you want to do something if the condition is <b><i>False</b></i>.\n",
    "\n",
    "The indentation of codes is very important in Python. It indicate the block or group of related statements that will be executed at the same level. In the following code sample, the indented <b><i>print ()</b></i> statements under <b><i>if</b></i> will be executed only if the condition is <b><i>True</b></i>. The <b><i>print ()</b></i> statement indented in the <b><i>else</b></i> part will be executed if the condition is <b><i>False</b></i>. The last <b><i>print ()</b></i> statement will be executed regarless of the result of the <b><i>if else</b></i> condition since it is same level with the <b><i>if else</b></i> statement. "
   ]
  },
  {
   "cell_type": "code",
   "execution_count": null,
   "metadata": {},
   "outputs": [],
   "source": [
    "password = input(\"Enter password : \")\n",
    "if password == \"secret\":\n",
    "    print(\"Access granted\")\n",
    "    print(\"Enjoy using the system\")\n",
    "else:\n",
    "    print(\"Incorrect password, access denied\")\n",
    "print(\"Thank you\")"
   ]
  },
  {
   "cell_type": "markdown",
   "metadata": {},
   "source": [
    "### <font color = 'green'>Test yourself</font>"
   ]
  },
  {
   "cell_type": "code",
   "execution_count": null,
   "metadata": {},
   "outputs": [],
   "source": [
    "# Create a program that will accept Prelim, Midterm, Semi-Final, Final, Quiz, and Project Grade. \n",
    "# Compute the final grade: FG = (prelime x 15%) + (midterm x 15%) + (semifinal x 15%) + (final x 15%) + (quiz x 25%) + (project x 15%)\n",
    "# Display a remark Congratulations! You passed the course if final grade is 75 and above; otherwise display Sorry, you failed\n"
   ]
  },
  {
   "cell_type": "markdown",
   "metadata": {},
   "source": [
    "The <b><i>if elif</b></i> statement is used for testing multiple condition. The <b><i>in</b></i> operator checks if the value of the variable is in the list of values. The <b><i>range()</b></i> function is use to specify range of values. You can also use logical operators <b><i>and</b></i>, <b><i>or</b></i>, and <b><i>not</b></i> in creating condition."
   ]
  },
  {
   "cell_type": "code",
   "execution_count": null,
   "metadata": {},
   "outputs": [],
   "source": [
    "age = eval(input(\"Enter your age : \"))\n",
    "if age in range (1,13):\n",
    "    print(\"Your a kiddo\")\n",
    "elif age in range (13,20):\n",
    "    print(\"Your a teenager\")\n",
    "elif age >= 20 and age < 60:\n",
    "    print(\"Your an adult\")\n",
    "elif age > 60:\n",
    "    print(\"Your a senior citizen\")\n",
    "else:\n",
    "    print(\"Invalid age\")"
   ]
  },
  {
   "cell_type": "markdown",
   "metadata": {},
   "source": [
    "### <font color = 'blue'>Loop Statement</font>"
   ]
  },
  {
   "cell_type": "markdown",
   "metadata": {},
   "source": [
    "The <b><i>for in</b></i> loop statement is used if specific number of loop is known. In the following example, the <b><i>range ()</b></i> function is used to loop five times from integer value 0 to 4. Every loop, the current value is stored to a variable."
   ]
  },
  {
   "cell_type": "code",
   "execution_count": null,
   "metadata": {},
   "outputs": [],
   "source": [
    "for i in range(5):\n",
    "    print(\"Enverga University\")"
   ]
  },
  {
   "cell_type": "code",
   "execution_count": null,
   "metadata": {},
   "outputs": [],
   "source": [
    "for x in range (5):\n",
    "    print(\"The value of variable is\",x)"
   ]
  },
  {
   "cell_type": "code",
   "execution_count": null,
   "metadata": {},
   "outputs": [],
   "source": [
    "for x in range(1,10,2):\n",
    "    print (x)"
   ]
  },
  {
   "cell_type": "markdown",
   "metadata": {},
   "source": [
    "In the following example we pass value to the <i>start</i> and <i>stop</i> parameters of the <b><i>range()</b></i> function in order for the <b><i>for in</b></i> loop to loop five times from integer value 1 to 5."
   ]
  },
  {
   "cell_type": "code",
   "execution_count": null,
   "metadata": {},
   "outputs": [],
   "source": [
    "# Accept 5 integer numbers\n",
    "# Compute Sum and Average\n",
    "\n",
    "sum = 0\n",
    "for x in range(1,6):\n",
    "    num = int(input(\"Enter number \" + str(x) + \" : \"))\n",
    "    sum += num\n",
    "    #sum = sum + num\n",
    "ave = sum / x\n",
    "print(\"\\nThe final value of variable x is\", x)\n",
    "print(\"Sum of all input is\", sum)\n",
    "print(\"Average of all input is\",ave)"
   ]
  },
  {
   "cell_type": "markdown",
   "metadata": {},
   "source": [
    "### <font color = 'green'>Test yourself</font>"
   ]
  },
  {
   "cell_type": "code",
   "execution_count": null,
   "metadata": {},
   "outputs": [],
   "source": [
    "# Accept an integer number.\n",
    "# Compute and display the factorial of the number.\n"
   ]
  },
  {
   "cell_type": "code",
   "execution_count": null,
   "metadata": {},
   "outputs": [],
   "source": [
    "# Accept 10 Integer numbers.\n",
    "# Count and display how many odd and even number input.\n"
   ]
  },
  {
   "cell_type": "code",
   "execution_count": null,
   "metadata": {},
   "outputs": [],
   "source": [
    "# Input a number and display if the number is a Prime Number or Not a Prime Number\n"
   ]
  },
  {
   "cell_type": "code",
   "execution_count": null,
   "metadata": {},
   "outputs": [],
   "source": [
    "# Display a series of prime numbers based on user input.\n"
   ]
  },
  {
   "cell_type": "code",
   "execution_count": null,
   "metadata": {},
   "outputs": [],
   "source": [
    "# Create a program that will ask user to input the nth Fibonacci number series.\n",
    "# Compute and display the Fibonacci number based on the input\n"
   ]
  },
  {
   "cell_type": "markdown",
   "metadata": {},
   "source": [
    "The <b><i>while</b></i> loop is use if you want to base the iteration on conditional expression. The <b><i>while</b></i> loop will continue to loop while the condition is <i>True</i>. If the <b><i>break</b></i> statement is encountered inside the loop, it will immediate terminate the loop and will bypass the remaining statements in the loop block. The <b><i>continue</b></i> statement is use to immediately loop back and bypass the remaining statements in the loop block.\n",
    "\n",
    "In the following code sample the <b><i>while</b></i> loop condition is set to <i>True</i>. Since the loop condition is always <i>True</i> it will loop infinitely. However, we have included <i>if</i> statement in the while loop block the will execute the <i>break</i> statement to terminate the loop if the input is empty.\n"
   ]
  },
  {
   "cell_type": "code",
   "execution_count": null,
   "metadata": {},
   "outputs": [],
   "source": [
    "x = 1\n",
    "total = 0\n",
    "high = 0\n",
    "even = 0\n",
    "odd = 0\n",
    "while True:\n",
    "    n = input(\"Enter Number \" + str(x) + \" -> \")\n",
    "    if n == \"\":\n",
    "        break\n",
    "    elif int(n) == 0:\n",
    "        continue\n",
    "    total = total + int(n)\n",
    "    if (int(n) % 2 == 0):\n",
    "        even += 1\n",
    "    else:\n",
    "        odd += 1\n",
    "    if int(n) > int(high):\n",
    "        high = n\n",
    "    x += 1\n",
    "print(\"\\nNumber of input is\", x - 1)\n",
    "print(\"Total input is\", total)\n",
    "print(\"Highest input is\", high)\n",
    "print(\"Count of even number inputs\", even)\n",
    "print(\"Count of odd number inputs\", odd)"
   ]
  },
  {
   "cell_type": "markdown",
   "metadata": {},
   "source": [
    "### <font color = 'blue'>List</font>"
   ]
  },
  {
   "cell_type": "markdown",
   "metadata": {},
   "source": [
    "A list is an ordered collection. In other programming language you known it as array but with added funcionality.<br>A list is defined by assigning an open and close bracket [] to an identifier. To create a list with initial values,<br>place the value separate by a comma (,) in the open and close bracket. You can use the <b><i>len()</b></i> function to determine<br>the size of the list. "
   ]
  },
  {
   "cell_type": "code",
   "execution_count": null,
   "metadata": {},
   "outputs": [],
   "source": [
    "numbers = [1,5,80,90]\n",
    "print(\"List :\", numbers, \"List length :\", len(numbers))"
   ]
  },
  {
   "cell_type": "markdown",
   "metadata": {},
   "source": [
    "You can add new value at the end of list using the <b><i>append()</b></i> function. To add a value in the specific index of the list use the <b><i>insert()</b></i> function."
   ]
  },
  {
   "cell_type": "code",
   "execution_count": null,
   "metadata": {},
   "outputs": [],
   "source": [
    "numbers.append(100)\n",
    "print(\"List :\", numbers, \"List length :\", len(numbers))"
   ]
  },
  {
   "cell_type": "code",
   "execution_count": null,
   "metadata": {},
   "outputs": [],
   "source": [
    "numbers.insert(1,7)\n",
    "print(\"List :\",numbers,\"Length :\",len(numbers))"
   ]
  },
  {
   "cell_type": "markdown",
   "metadata": {},
   "source": [
    "The following codes demonstrate how to access the content of list."
   ]
  },
  {
   "cell_type": "code",
   "execution_count": null,
   "metadata": {},
   "outputs": [],
   "source": [
    "print(numbers[0])   #access and display the value in index 0 of the list\n",
    "print(numbers[:3])  #access and display the 3 items in the list from element 0 \n",
    "print(numbers[2:])  #access and display the content of the list from index 3 to the last index\n",
    "print(numbers[1:3]) #access and display the content of the list from index 1 to index 4\n",
    "print(numbers[-1])  #access and display the value in the last index of the list\n",
    "print(numbers[-2])  #access and display the value in the second to the last index of the list\n",
    "print(numbers[-3:-1])\n",
    "print(numbers[:]) #access and display all values in the list\n",
    "print(numbers)"
   ]
  },
  {
   "cell_type": "markdown",
   "metadata": {},
   "source": [
    "Use the <b><i>in</i></b> to determine if a specific value exist in the list."
   ]
  },
  {
   "cell_type": "code",
   "execution_count": null,
   "metadata": {},
   "outputs": [],
   "source": [
    "print(1 in numbers)\n",
    "print(21 in numbers)"
   ]
  },
  {
   "cell_type": "markdown",
   "metadata": {},
   "source": [
    "Use the *index()* function to return the index of a value."
   ]
  },
  {
   "cell_type": "code",
   "execution_count": null,
   "metadata": {},
   "outputs": [],
   "source": [
    "print(\"Index of value 80 :\", numbers.index(80))"
   ]
  },
  {
   "cell_type": "code",
   "execution_count": null,
   "metadata": {},
   "outputs": [],
   "source": [
    "no = []\n",
    "for x in range(5):\n",
    "    n = int(input(\"Enter number for index \" + str(x) + \" : \"))\n",
    "    no.append(n)\n",
    "\n",
    "print(\"List :\", no)\n",
    "\n",
    "sn = int(input(\"Enter number to be search : \"))\n",
    "\n",
    "if sn in no:\n",
    "    print(sn, \"found at index\",no.index(sn))\n",
    "else:\n",
    "    print(sn,\"not found.\")"
   ]
  },
  {
   "cell_type": "code",
   "execution_count": null,
   "metadata": {},
   "outputs": [],
   "source": [
    "no = []\n",
    "for x in range(5):\n",
    "    n = int(input(\"Enter number for index \" + str(x) + \" : \"))\n",
    "    no.append(n)\n",
    "\n",
    "print(\"\\nList :\", no)\n",
    "\n",
    "sn = int(input(\"Enter number to be search : \"))\n",
    "\n",
    "index = -1\n",
    "for x in range(5):\n",
    "    if no[x] == sn:\n",
    "        index = x\n",
    "\n",
    "if index != -1:\n",
    "    print(sn, \"found at index\",index)\n",
    "else:\n",
    "    print(sn,\"not found.\")"
   ]
  },
  {
   "cell_type": "code",
   "execution_count": null,
   "metadata": {},
   "outputs": [],
   "source": [
    "print(\"List :\",numbers)\n",
    "print(\"Sum of all numbers in the list :\",sum(numbers))\n",
    "print(\"Highest number :\", max(numbers))\n",
    "print(\"Highest number found at index :\", numbers.index(max(numbers)))\n",
    "print(\"Lowest number :\", min(numbers))\n",
    "print(\"Lowest number found at index :\", numbers.index(min(numbers)))"
   ]
  },
  {
   "cell_type": "code",
   "execution_count": null,
   "metadata": {},
   "outputs": [],
   "source": [
    "from statistics import mean\n",
    "\n",
    "no = []\n",
    "for x in range(5):\n",
    "    n = int(input(\"Enter number for index \" + str(x) + \" : \"))\n",
    "    no.append(n)\n",
    "\n",
    "print(\"\\nList :\", no)\n",
    "print(\"\\nSum of all numbers in the list :\",sum(no))\n",
    "#print(\"Average of all numbers in the list :\", sum(no)/len(no))\n",
    "print(\"Average of all numbers in the list :\", mean(no))\n",
    "print(\"Highest number :\", max(no))\n",
    "print(\"Highest number found at index :\", numbers.index(max(no)))\n",
    "print(\"Lowest number :\", min(no))\n",
    "print(\"Lowest number found at index :\", numbers.index(min(no)))\n"
   ]
  },
  {
   "cell_type": "code",
   "execution_count": null,
   "metadata": {},
   "outputs": [],
   "source": [
    "num = []\n",
    "for x in range(5):\n",
    "    n = int(input(\"Enter number for index \" + str(x) + \" : \"))\n",
    "    num.append(n)\n",
    "\n",
    "print(\"\\nList :\", num)\n",
    "\n",
    "even = []\n",
    "eveni = []\n",
    "odd = []\n",
    "oddi = []\n",
    "\n",
    "for x in range(5):\n",
    "    if num[x] % 2 == 0:\n",
    "        even.append(num[x])\n",
    "        eveni.append(x)\n",
    "    else:\n",
    "        odd.append(num[x])\n",
    "        oddi.append(x)\n",
    "\n",
    "print(\"\\nEven numbers :\",even)\n",
    "print(\"Found at index :\",eveni)\n",
    "print(\"Odd numbers :\",odd)\n",
    "print(\"Found at index :\",oddi)"
   ]
  },
  {
   "cell_type": "markdown",
   "metadata": {},
   "source": [
    "### <font color = 'blue'>List Comprehension Example</font>"
   ]
  },
  {
   "cell_type": "code",
   "execution_count": null,
   "metadata": {},
   "outputs": [],
   "source": [
    "print(\"List :\",numbers)\n",
    "even = [numbers[i] for i in range(6) if numbers[i] % 2 == 0]\n",
    "print (\"Even numbers on the list : \",even)\n",
    "eveni = [i for i in range(6) if numbers[i] % 2 == 0]\n",
    "print(\"Index number of even numbers :\",eveni)"
   ]
  },
  {
   "cell_type": "code",
   "execution_count": null,
   "metadata": {},
   "outputs": [],
   "source": [
    "num = []\n",
    "for x in range(5):\n",
    "    n = int(input(\"Enter number for index \" + str(x) + \" : \"))\n",
    "    num.append(n)\n",
    "\n",
    "print(\"\\nList :\", num)\n",
    "\n",
    "even = [num[i] for i in range(5) if num[i] % 2 == 0]\n",
    "eveni = [i for i in range(5) if num[i] % 2 == 0]\n",
    "odd = [num[i] for i in range(5) if num[i] % 2 != 0]\n",
    "oddi = [i for i in range(5) if num[i] % 2 != 0]\n",
    "\n",
    "print(\"\\nEven numbers :\",even)\n",
    "print(\"Found at index :\",eveni)\n",
    "print(\"Odd numbers :\",odd)\n",
    "print(\"Found at index :\",oddi)"
   ]
  },
  {
   "cell_type": "markdown",
   "metadata": {},
   "source": [
    "To delete an element use the del keyword. The pop() function delete the element and return the value. You can specify the index number of the element that you want to delete in the pop() function."
   ]
  },
  {
   "cell_type": "code",
   "execution_count": null,
   "metadata": {},
   "outputs": [],
   "source": [
    "del numbers[2]\n",
    "print(numbers)"
   ]
  },
  {
   "cell_type": "code",
   "execution_count": null,
   "metadata": {},
   "outputs": [],
   "source": [
    "numbers.pop()"
   ]
  },
  {
   "cell_type": "code",
   "execution_count": null,
   "metadata": {},
   "outputs": [],
   "source": [
    "numbers.pop(2)"
   ]
  },
  {
   "cell_type": "markdown",
   "metadata": {},
   "source": [
    "Use the <b><i>sort()</b></i> of the list to sort the content of the list. Use the <b><i>reverse</i></b> parameter of the <b><i>sort()</b></i> function to sort in reverse order."
   ]
  },
  {
   "cell_type": "code",
   "execution_count": null,
   "metadata": {},
   "outputs": [],
   "source": [
    "numbers.sort()\n",
    "print(numbers)"
   ]
  },
  {
   "cell_type": "code",
   "execution_count": null,
   "metadata": {},
   "outputs": [],
   "source": [
    "numbers.sort(reverse=True)\n",
    "print(numbers)"
   ]
  },
  {
   "cell_type": "markdown",
   "metadata": {},
   "source": [
    "The <b><i>for in</b></i> loop can be used to access the content of the list."
   ]
  },
  {
   "cell_type": "code",
   "execution_count": null,
   "metadata": {},
   "outputs": [],
   "source": [
    "# access the item of the list only.\n",
    "for number in numbers:\n",
    "    print(number)"
   ]
  },
  {
   "cell_type": "markdown",
   "metadata": {},
   "source": [
    "The <b><i>enumerate()</b></i> function is used together with <b><i>for in</b></i> loop to access both index and item in the list."
   ]
  },
  {
   "cell_type": "code",
   "execution_count": null,
   "metadata": {},
   "outputs": [],
   "source": [
    "# access both the index and item in the list using enumerate ()\n",
    "for x,number in enumerate(numbers):\n",
    "    print(\"Index\",x,\"value :\",number)"
   ]
  },
  {
   "cell_type": "markdown",
   "metadata": {},
   "source": [
    "You can also define list within a list (matrix) in Python."
   ]
  },
  {
   "cell_type": "code",
   "execution_count": null,
   "metadata": {},
   "outputs": [],
   "source": [
    "matrix = [[2,5,1],[100,2,300,500,1,87],[90,50,1,12]]\n",
    "print(matrix[1][2])"
   ]
  },
  {
   "cell_type": "markdown",
   "metadata": {},
   "source": [
    "The following code demonstrate how to use the <b><i>for in</b></i> loop to access each set of list in the list."
   ]
  },
  {
   "cell_type": "code",
   "execution_count": null,
   "metadata": {},
   "outputs": [],
   "source": [
    "for num in matrix:\n",
    "    print(num)"
   ]
  },
  {
   "cell_type": "markdown",
   "metadata": {},
   "source": [
    "The following code demonstrate how to use the <b><i>for in</b></i> loop to access the element on each set of list in the list."
   ]
  },
  {
   "cell_type": "code",
   "execution_count": null,
   "metadata": {},
   "outputs": [],
   "source": [
    "for x,num in enumerate(matrix):\n",
    "     for y,n in enumerate(num):\n",
    "         print(\"Set\",x,\"index\",y,\"value : \",n)\n",
    "     print(\"\\n\")"
   ]
  },
  {
   "cell_type": "markdown",
   "metadata": {},
   "source": [
    "### <font color = 'green'>Test yourself</font>"
   ]
  },
  {
   "cell_type": "code",
   "execution_count": null,
   "metadata": {},
   "outputs": [],
   "source": [
    "# Accept integer number and store it to a list until user input is 0.\n",
    "# Display the content of the list and size of the list.\n",
    "# Display the highest and lowest numbers.\n"
   ]
  },
  {
   "cell_type": "code",
   "execution_count": null,
   "metadata": {},
   "outputs": [],
   "source": [
    "# Accept integer number and store it to a list until user input is 0.\n",
    "# Display the content of the list and size of the list.\n",
    "# Display the highest and lowest numbers in the list and the index number it can be found.\n"
   ]
  },
  {
   "cell_type": "code",
   "execution_count": null,
   "metadata": {},
   "outputs": [],
   "source": [
    "# Create a Python program that will demonstrate list comprehension."
   ]
  },
  {
   "cell_type": "markdown",
   "metadata": {},
   "source": [
    "### <font color = 'blue'>Dictionary</font>"
   ]
  },
  {
   "cell_type": "markdown",
   "metadata": {},
   "source": [
    "A dictionary is a collection which is unordered, changeable and indexed. In Python dictionaries are written with curly brackets, and they have keys and values. A dictionary is similar to a list but each element is being access by a unique key instead of an index number. The following code demonstrate how to declare a dictionary."
   ]
  },
  {
   "cell_type": "code",
   "execution_count": 2,
   "metadata": {},
   "outputs": [
    {
     "name": "stdout",
     "output_type": "stream",
     "text": [
      "{'John': 90, 'Jim': 87, 'Jel': 85}\n"
     ]
    }
   ],
   "source": [
    "grades = {\"John\" : 90, \"Jim\" : 87, \"Jel\": 85}\n",
    "print(grades)"
   ]
  },
  {
   "cell_type": "code",
   "execution_count": 6,
   "metadata": {},
   "outputs": [
    {
     "name": "stdout",
     "output_type": "stream",
     "text": [
      "{'John': 90, 'Jim': 87, 'Jel': 97}\n"
     ]
    }
   ],
   "source": [
    "grades = {\"John\" : 90, \"Jim\" : 87, \"Jel\": 85, \"Jel\": 97}\n",
    "print(grades)"
   ]
  },
  {
   "cell_type": "markdown",
   "metadata": {},
   "source": [
    "The following codes demonstrate how to access item in the dictionary."
   ]
  },
  {
   "cell_type": "code",
   "execution_count": 3,
   "metadata": {},
   "outputs": [
    {
     "name": "stdout",
     "output_type": "stream",
     "text": [
      "85\n"
     ]
    }
   ],
   "source": [
    "print(grades[\"Jel\"])"
   ]
  },
  {
   "cell_type": "code",
   "execution_count": 4,
   "metadata": {},
   "outputs": [
    {
     "ename": "KeyError",
     "evalue": "'Joe'",
     "output_type": "error",
     "traceback": [
      "\u001b[1;31m---------------------------------------------------------------------------\u001b[0m",
      "\u001b[1;31mKeyError\u001b[0m                                  Traceback (most recent call last)",
      "Input \u001b[1;32mIn [4]\u001b[0m, in \u001b[0;36m<cell line: 1>\u001b[1;34m()\u001b[0m\n\u001b[1;32m----> 1\u001b[0m \u001b[38;5;28mprint\u001b[39m(\u001b[43mgrades\u001b[49m\u001b[43m[\u001b[49m\u001b[38;5;124;43m\"\u001b[39;49m\u001b[38;5;124;43mJoe\u001b[39;49m\u001b[38;5;124;43m\"\u001b[39;49m\u001b[43m]\u001b[49m)\n",
      "\u001b[1;31mKeyError\u001b[0m: 'Joe'"
     ]
    }
   ],
   "source": [
    "print(grades[\"Joe\"])"
   ]
  },
  {
   "cell_type": "code",
   "execution_count": 5,
   "metadata": {},
   "outputs": [
    {
     "name": "stdout",
     "output_type": "stream",
     "text": [
      "None\n",
      "-1\n",
      "87\n"
     ]
    }
   ],
   "source": [
    "print(grades.get(\"Joe\"))\n",
    "print(grades.get(\"Joe\", -1)) #default value is -1\n",
    "print(grades.get(\"Jim\",0)) #default value is 0"
   ]
  },
  {
   "cell_type": "markdown",
   "metadata": {},
   "source": [
    "The following codes demonstrate how to modify the value of the key in the dictionary and adding new item in the dictionary."
   ]
  },
  {
   "cell_type": "code",
   "execution_count": 7,
   "metadata": {},
   "outputs": [
    {
     "name": "stdout",
     "output_type": "stream",
     "text": [
      "95\n",
      "{'John': 95, 'Jim': 87, 'Jel': 97, 'Juan': 97}\n"
     ]
    }
   ],
   "source": [
    "# The value represented by John will be change to 95\n",
    "grades[\"John\"] = 95\n",
    "print(grades.get(\"John\"))\n",
    "# A new item Juan with value 97 will be added in the dictionary\n",
    "grades[\"Juan\"] = 97\n",
    "print(grades)"
   ]
  },
  {
   "cell_type": "markdown",
   "metadata": {},
   "source": [
    "Useful dictionary functions."
   ]
  },
  {
   "cell_type": "code",
   "execution_count": 8,
   "metadata": {},
   "outputs": [
    {
     "name": "stdout",
     "output_type": "stream",
     "text": [
      "dict_keys(['John', 'Jim', 'Jel', 'Juan'])\n",
      "dict_values([95, 87, 97, 97])\n",
      "dict_items([('John', 95), ('Jim', 87), ('Jel', 97), ('Juan', 97)])\n"
     ]
    }
   ],
   "source": [
    "print(grades.keys()) #return the keys in the dictionary\n",
    "print(grades.values()) #return the items in the dictionary\n",
    "print(grades.items()) #return both key and item in the dictionary"
   ]
  },
  {
   "cell_type": "markdown",
   "metadata": {},
   "source": [
    "You can also determine if a specific key exist in the dictionary."
   ]
  },
  {
   "cell_type": "code",
   "execution_count": 9,
   "metadata": {},
   "outputs": [
    {
     "name": "stdout",
     "output_type": "stream",
     "text": [
      "False\n"
     ]
    }
   ],
   "source": [
    "print(\"Jen\" in grades)"
   ]
  },
  {
   "cell_type": "markdown",
   "metadata": {},
   "source": [
    "Using for in loop in the dictionary"
   ]
  },
  {
   "cell_type": "code",
   "execution_count": 10,
   "metadata": {},
   "outputs": [
    {
     "name": "stdout",
     "output_type": "stream",
     "text": [
      "John grade is 95\n",
      "Jim grade is 87\n",
      "Jel grade is 97\n",
      "Juan grade is 97\n"
     ]
    }
   ],
   "source": [
    "for grade in grades:\n",
    "    print(grade, \"grade is\", grades[grade])"
   ]
  },
  {
   "cell_type": "code",
   "execution_count": 12,
   "metadata": {},
   "outputs": [
    {
     "name": "stdout",
     "output_type": "stream",
     "text": [
      "0 grade is ('John', 95)\n",
      "1 grade is ('Jim', 87)\n",
      "2 grade is ('Jel', 97)\n",
      "3 grade is ('Juan', 97)\n"
     ]
    }
   ],
   "source": [
    "for student,grade in enumerate(grades):\n",
    "    print(student, \"grade is\", grade)"
   ]
  },
  {
   "cell_type": "code",
   "execution_count": 13,
   "metadata": {},
   "outputs": [
    {
     "name": "stdout",
     "output_type": "stream",
     "text": [
      "{'Jun': [90, 87, 85], 'Rowel': [78, 83, 80], 'Lemuel': [92, 87, 90]}\n"
     ]
    }
   ],
   "source": [
    "#List in the dictionary\n",
    "students ={\"Jun\":[90,87,85],\"Rowel\":[78,83,80],\"Lemuel\":[92,87,90]}\n",
    "print(students)"
   ]
  },
  {
   "cell_type": "code",
   "execution_count": 15,
   "metadata": {},
   "outputs": [
    {
     "name": "stdout",
     "output_type": "stream",
     "text": [
      "[90, 87, 85]\n"
     ]
    }
   ],
   "source": [
    "print(students.get('Jun'))"
   ]
  },
  {
   "cell_type": "code",
   "execution_count": 17,
   "metadata": {},
   "outputs": [
    {
     "name": "stdout",
     "output_type": "stream",
     "text": [
      "87\n"
     ]
    }
   ],
   "source": [
    "print(students['Jun'][1])"
   ]
  },
  {
   "cell_type": "code",
   "execution_count": 18,
   "metadata": {},
   "outputs": [
    {
     "name": "stdout",
     "output_type": "stream",
     "text": [
      "87\n"
     ]
    }
   ],
   "source": [
    "print(students.get('Jun')[1])"
   ]
  },
  {
   "cell_type": "code",
   "execution_count": 22,
   "metadata": {},
   "outputs": [
    {
     "name": "stdout",
     "output_type": "stream",
     "text": [
      "90\n"
     ]
    }
   ],
   "source": [
    "print(max(students.get('Jun')))"
   ]
  },
  {
   "cell_type": "code",
   "execution_count": 23,
   "metadata": {},
   "outputs": [
    {
     "name": "stdout",
     "output_type": "stream",
     "text": [
      "85\n"
     ]
    }
   ],
   "source": [
    "print(min(students.get('Jun')))"
   ]
  },
  {
   "cell_type": "code",
   "execution_count": 24,
   "metadata": {},
   "outputs": [
    {
     "name": "stdout",
     "output_type": "stream",
     "text": [
      "87.33333333333333\n"
     ]
    }
   ],
   "source": [
    "print(sum(students.get('Jun'))/3)"
   ]
  },
  {
   "cell_type": "code",
   "execution_count": 25,
   "metadata": {},
   "outputs": [
    {
     "name": "stdout",
     "output_type": "stream",
     "text": [
      "87.33333333333333\n"
     ]
    }
   ],
   "source": [
    "from statistics import mean\n",
    "print(mean(students.get('Jun')))"
   ]
  },
  {
   "cell_type": "code",
   "execution_count": 26,
   "metadata": {},
   "outputs": [
    {
     "name": "stdout",
     "output_type": "stream",
     "text": [
      "Enter student name: Julia\n",
      "Enter Julia grade for quiz 1: 90\n",
      "Enter Julia grade for quiz 2: 95\n",
      "Enter Julia grade for quiz 3: 89\n",
      "Do you want to continue [y/n]: y\n",
      "\n",
      "Enter student name: Jim\n",
      "Enter Jim grade for quiz 1: 85\n",
      "Enter Jim grade for quiz 2: 83\n",
      "Enter Jim grade for quiz 3: 89\n",
      "Do you want to continue [y/n]: n\n",
      "\n",
      "{'Julia': [90, 95, 89], 'Jim': [85, 83, 89]}\n"
     ]
    }
   ],
   "source": [
    "quiz = {}\n",
    "cont = 'y'\n",
    "while cont == 'y':\n",
    "    name = input(\"Enter student name: \")\n",
    "    grade = []\n",
    "    for i in range(1,4):\n",
    "        x = eval(input(\"Enter \" + name +\" grade for quiz \" + str(i) + \": \"))\n",
    "        grade.append(x)\n",
    "    quiz[name] = grade\n",
    "    cont = input(\"Do you want to continue [y/n]: \")\n",
    "    print()\n",
    "\n",
    "print(quiz)"
   ]
  },
  {
   "cell_type": "markdown",
   "metadata": {},
   "source": [
    "### <font color = 'green'>Test yourself</font>"
   ]
  },
  {
   "cell_type": "code",
   "execution_count": null,
   "metadata": {},
   "outputs": [],
   "source": [
    "# Accept student name and grade and save it to a dictionary.\n",
    "# Display the content of the dictionary.\n",
    "# Display the name  and grade of student with the highest and lowest grade."
   ]
  },
  {
   "cell_type": "markdown",
   "metadata": {},
   "source": [
    "### <font color = 'blue'>Tuples</font>"
   ]
  },
  {
   "cell_type": "markdown",
   "metadata": {},
   "source": [
    "A tuple is a collection which is ordered and **unchangeable**. In Python tuples are written with round brackets. "
   ]
  },
  {
   "cell_type": "code",
   "execution_count": 1,
   "metadata": {},
   "outputs": [
    {
     "name": "stdout",
     "output_type": "stream",
     "text": [
      "('apple', 'orange', 'grapes', 'cherry')\n"
     ]
    }
   ],
   "source": [
    "fruits = (\"apple\", \"orange\", \"grapes\", \"cherry\")\n",
    "print (fruits)"
   ]
  },
  {
   "cell_type": "code",
   "execution_count": 2,
   "metadata": {},
   "outputs": [
    {
     "name": "stdout",
     "output_type": "stream",
     "text": [
      "grapes\n"
     ]
    }
   ],
   "source": [
    "print(fruits[2]) #access the item in the tuple"
   ]
  },
  {
   "cell_type": "code",
   "execution_count": 3,
   "metadata": {},
   "outputs": [
    {
     "ename": "TypeError",
     "evalue": "'tuple' object does not support item assignment",
     "output_type": "error",
     "traceback": [
      "\u001b[1;31m---------------------------------------------------------------------------\u001b[0m",
      "\u001b[1;31mTypeError\u001b[0m                                 Traceback (most recent call last)",
      "Input \u001b[1;32mIn [3]\u001b[0m, in \u001b[0;36m<cell line: 1>\u001b[1;34m()\u001b[0m\n\u001b[1;32m----> 1\u001b[0m fruits[\u001b[38;5;241m2\u001b[39m] \u001b[38;5;241m=\u001b[39m \u001b[38;5;124m\"\u001b[39m\u001b[38;5;124mbanana\u001b[39m\u001b[38;5;124m\"\u001b[39m\n",
      "\u001b[1;31mTypeError\u001b[0m: 'tuple' object does not support item assignment"
     ]
    }
   ],
   "source": [
    "fruits[2] = \"banana\" #error; tuples cannot be changed."
   ]
  },
  {
   "cell_type": "code",
   "execution_count": 4,
   "metadata": {},
   "outputs": [
    {
     "name": "stdout",
     "output_type": "stream",
     "text": [
      "Enter Student #:A022-1234\n",
      "Enter Student Name:Joey C. Medina\n",
      "Enter Student Course:BSIT\n",
      "('A022-1234', 'Joey C. Medina', 'BSIT')\n"
     ]
    }
   ],
   "source": [
    "sid = input(\"Enter Student #:\")\n",
    "name = input(\"Enter Student Name:\")\n",
    "course = input(\"Enter Student Course:\")\n",
    "student = (sid,name,course)\n",
    "print(student)"
   ]
  },
  {
   "cell_type": "code",
   "execution_count": 15,
   "metadata": {},
   "outputs": [
    {
     "name": "stdout",
     "output_type": "stream",
     "text": [
      "Student 1 :\n",
      "Enter Student #:dfdf\n",
      "Enter Student Name:df\n",
      "Enter Student Course:d\n",
      "Student 2 :\n",
      "Enter Student #:fdfg\n",
      "Enter Student Name:fd\n",
      "Enter Student Course:d\n",
      "Student 3 :\n",
      "Enter Student #:dfdf\n",
      "Enter Student Name:f\n",
      "Enter Student Course:dfd\n",
      "(['dfdf', 'df', 'd'], ['fdfg', 'fd', 'd'], ['dfdf', 'f', 'dfd'])\n"
     ]
    }
   ],
   "source": [
    "students = ()\n",
    "for i in range(1,4):\n",
    "    print(\"Student\",i,\":\")\n",
    "    sid = input(\"Enter Student #:\")\n",
    "    name = input(\"Enter Student Name:\")\n",
    "    course = input(\"Enter Student Course:\")\n",
    "    student = [sid,name,course]\n",
    "    students += student,\n",
    "print(students)"
   ]
  },
  {
   "cell_type": "code",
   "execution_count": 19,
   "metadata": {},
   "outputs": [
    {
     "data": {
      "text/plain": [
       "['dfdf', 'df', 'd']"
      ]
     },
     "execution_count": 19,
     "metadata": {},
     "output_type": "execute_result"
    }
   ],
   "source": [
    "students[0]"
   ]
  },
  {
   "cell_type": "code",
   "execution_count": 20,
   "metadata": {},
   "outputs": [
    {
     "data": {
      "text/plain": [
       "'df'"
      ]
     },
     "execution_count": 20,
     "metadata": {},
     "output_type": "execute_result"
    }
   ],
   "source": [
    "students[0][1]"
   ]
  },
  {
   "cell_type": "markdown",
   "metadata": {},
   "source": [
    "### <font color = 'blue'>Sets</font>"
   ]
  },
  {
   "cell_type": "markdown",
   "metadata": {},
   "source": [
    "A set is a collection which is unordered and unindexed. In Python sets are \n",
    "written with curly brackets"
   ]
  },
  {
   "cell_type": "code",
   "execution_count": 21,
   "metadata": {},
   "outputs": [
    {
     "name": "stdout",
     "output_type": "stream",
     "text": [
      "{'banana', 'apple', 'orange'}\n",
      "{'orange', 'apple', 'guava'}\n"
     ]
    }
   ],
   "source": [
    "fruit1 = {\"apple\", \"orange\",\"banana\"}\n",
    "fruit2 = {\"guava\",\"apple\",\"orange\"}\n",
    "print(fruit1)\n",
    "print(fruit2)"
   ]
  },
  {
   "cell_type": "code",
   "execution_count": 22,
   "metadata": {},
   "outputs": [
    {
     "name": "stdout",
     "output_type": "stream",
     "text": [
      "{'apple', 'orange'}\n"
     ]
    }
   ],
   "source": [
    "result = fruit1.intersection(fruit2) #return a set, that is the intersection of two sets.\n",
    "print(result)"
   ]
  },
  {
   "cell_type": "code",
   "execution_count": 23,
   "metadata": {},
   "outputs": [
    {
     "name": "stdout",
     "output_type": "stream",
     "text": [
      "{'banana'}\n"
     ]
    }
   ],
   "source": [
    "result = fruit1.difference(fruit2)\n",
    "print(result)"
   ]
  },
  {
   "cell_type": "code",
   "execution_count": 24,
   "metadata": {},
   "outputs": [
    {
     "name": "stdout",
     "output_type": "stream",
     "text": [
      "{'guava'}\n"
     ]
    }
   ],
   "source": [
    "result = fruit2.difference(fruit1)\n",
    "print(result)"
   ]
  },
  {
   "cell_type": "code",
   "execution_count": 25,
   "metadata": {},
   "outputs": [
    {
     "name": "stdout",
     "output_type": "stream",
     "text": [
      "{'banana', 'guava'}\n"
     ]
    }
   ],
   "source": [
    "result = fruit1.symmetric_difference(fruit2)\n",
    "print(result)"
   ]
  },
  {
   "cell_type": "code",
   "execution_count": 26,
   "metadata": {},
   "outputs": [
    {
     "name": "stdout",
     "output_type": "stream",
     "text": [
      "{'guava', 'banana', 'apple', 'orange'}\n"
     ]
    }
   ],
   "source": [
    "result = fruit1.union(fruit2)\n",
    "print(result)"
   ]
  },
  {
   "cell_type": "markdown",
   "metadata": {},
   "source": [
    "### <font color = 'blue'>String</font>"
   ]
  },
  {
   "cell_type": "code",
   "execution_count": 27,
   "metadata": {},
   "outputs": [
    {
     "name": "stdout",
     "output_type": "stream",
     "text": [
      "Enverga\n"
     ]
    }
   ],
   "source": [
    "x = \"Enverga\"\n",
    "print(x)"
   ]
  },
  {
   "cell_type": "code",
   "execution_count": 28,
   "metadata": {},
   "outputs": [
    {
     "name": "stdout",
     "output_type": "stream",
     "text": [
      "v\n"
     ]
    }
   ],
   "source": [
    "print(x[2])"
   ]
  },
  {
   "cell_type": "code",
   "execution_count": 29,
   "metadata": {},
   "outputs": [
    {
     "name": "stdout",
     "output_type": "stream",
     "text": [
      "ver\n"
     ]
    }
   ],
   "source": [
    "print(x[2:5])"
   ]
  },
  {
   "cell_type": "code",
   "execution_count": 30,
   "metadata": {},
   "outputs": [
    {
     "name": "stdout",
     "output_type": "stream",
     "text": [
      "False\n"
     ]
    }
   ],
   "source": [
    "print(\"i\" in x)"
   ]
  },
  {
   "cell_type": "code",
   "execution_count": 31,
   "metadata": {},
   "outputs": [
    {
     "name": "stdout",
     "output_type": "stream",
     "text": [
      "7\n",
      "enverga\n",
      "ENVERGA\n",
      "Envirga\n",
      "2\n"
     ]
    }
   ],
   "source": [
    "print(len(x))\n",
    "print(x.lower())\n",
    "print(x.upper())\n",
    "print(x.replace(\"e\",\"i\"))\n",
    "print(x.find(\"v\"))"
   ]
  },
  {
   "cell_type": "code",
   "execution_count": 32,
   "metadata": {},
   "outputs": [
    {
     "name": "stdout",
     "output_type": "stream",
     "text": [
      "['China', 'Indonesia', 'Philippines']\n"
     ]
    }
   ],
   "source": [
    "s = \"China,Indonesia,Philippines\"\n",
    "a = s.split(\",\")\n",
    "print(a)"
   ]
  },
  {
   "cell_type": "code",
   "execution_count": 34,
   "metadata": {},
   "outputs": [
    {
     "name": "stdout",
     "output_type": "stream",
     "text": [
      "['China', 'Indonesia', 'Philippines']\n"
     ]
    }
   ],
   "source": [
    "s = \"China Indonesia Philippines\"\n",
    "a = s.split()\n",
    "print(a)"
   ]
  },
  {
   "cell_type": "markdown",
   "metadata": {},
   "source": [
    "### <font color = 'green'>Test yourself</font>"
   ]
  },
  {
   "cell_type": "code",
   "execution_count": null,
   "metadata": {},
   "outputs": [],
   "source": [
    "# Accept string input.\n",
    "# Display each charter of the string (vertical order)\n",
    "# Count and display total i charter in the string.\n"
   ]
  },
  {
   "cell_type": "code",
   "execution_count": null,
   "metadata": {},
   "outputs": [],
   "source": [
    "# Accept string input.\n",
    "# Count vowel and consonant characters in the string.\n",
    "# Display the string in reverse order.\n"
   ]
  },
  {
   "cell_type": "code",
   "execution_count": null,
   "metadata": {},
   "outputs": [],
   "source": [
    "# Accept string input.\n",
    "# Display if the string is Palindrome or Not a Palindrome\n"
   ]
  },
  {
   "cell_type": "markdown",
   "metadata": {},
   "source": [
    "### <font color = 'blue'>Function</font>"
   ]
  },
  {
   "cell_type": "markdown",
   "metadata": {},
   "source": [
    "A function is a block of code which only runs when it is called.\n",
    "\n",
    "You can pass data, known as parameters, into a function.\n",
    "\n",
    "A function can return data as a result.\n",
    "\n",
    "A function is like mini-program within a program. Defining a function makes your program more ogranize and you can re-use it in any part of your program. Use the <b><i>def</b></i> keyword to define a function. The following program define a function with two parameters."
   ]
  },
  {
   "cell_type": "code",
   "execution_count": 5,
   "metadata": {},
   "outputs": [
    {
     "name": "stdout",
     "output_type": "stream",
     "text": [
      "Hello from a function\n"
     ]
    }
   ],
   "source": [
    "def my_function():\n",
    "    print(\"Hello from a function\")\n",
    "\n",
    "def greet(name):\n",
    "    print(\"Hello\",name)\n",
    "\n",
    "def main():\n",
    "    my_function()\n",
    "    n = input(\"Enter your name: \")\n",
    "    greet(n)\n",
    "    my_function()\n",
    "\n",
    "#main()\n",
    "#my_function()"
   ]
  },
  {
   "cell_type": "code",
   "execution_count": 6,
   "metadata": {},
   "outputs": [
    {
     "name": "stdout",
     "output_type": "stream",
     "text": [
      "Enter the first number : 35\n",
      "Enter the second number : 60\n",
      "The sum of 35 and 60 is 95\n"
     ]
    }
   ],
   "source": [
    "def sum (n1,n2):\n",
    "    result = n1 + n2\n",
    "    print (\"The sum of\",n1,\"and\",n2,\"is\",result)\n",
    "\n",
    "def main ():\n",
    "    a = eval(input(\"Enter the first number : \"))\n",
    "    b = eval(input(\"Enter the second number : \"))\n",
    "    sum(a,b)\n",
    "\n",
    "main()"
   ]
  },
  {
   "cell_type": "markdown",
   "metadata": {},
   "source": [
    "Use the <b><i>return</b></i> keyword if you want your function to return a value. "
   ]
  },
  {
   "cell_type": "code",
   "execution_count": 7,
   "metadata": {},
   "outputs": [
    {
     "name": "stdout",
     "output_type": "stream",
     "text": [
      "Enter the first number : 60\n",
      "Enter the second number : 50\n",
      "The difference of 60 and 50 is 10\n"
     ]
    }
   ],
   "source": [
    "def difference (n1,n2):\n",
    "    return n1 - n2\n",
    "   \n",
    "def main ():\n",
    "    a = eval(input(\"Enter the first number : \"))\n",
    "    b = eval(input(\"Enter the second number : \"))\n",
    "    print(\"The difference of\",a,\"and\",b,\"is\",difference(a,b))\n",
    "\n",
    "main()"
   ]
  },
  {
   "cell_type": "code",
   "execution_count": 11,
   "metadata": {},
   "outputs": [
    {
     "name": "stdout",
     "output_type": "stream",
     "text": [
      "Enter a number: 9\n",
      "9 is an odd number.\n"
     ]
    }
   ],
   "source": [
    "def evenorodd(N):\n",
    "    if N % 2 == 0:\n",
    "        return True\n",
    "    else:\n",
    "        return False\n",
    "\n",
    "n = int(input(\"Enter a number: \"))\n",
    "\n",
    "if evenorodd(n):\n",
    "    print(n,\"is an even number.\")\n",
    "else:\n",
    "    print(n,\"is an odd number.\")\n",
    "    "
   ]
  },
  {
   "cell_type": "markdown",
   "metadata": {},
   "source": [
    "### <font color = 'green'>Test yourself</font>"
   ]
  },
  {
   "cell_type": "code",
   "execution_count": 2,
   "metadata": {},
   "outputs": [],
   "source": [
    "# Create a Python program that will use at least 3 user-defined function. Demonstrate function with return value and void function."
   ]
  },
  {
   "cell_type": "markdown",
   "metadata": {},
   "source": [
    "**Lambda**  \n",
    "\n",
    "A lambda function is a small anonymous function.\n",
    "\n",
    "A lambda function can take any number of arguments, but can only have one expression.\n",
    "\n",
    "*Syntax:*  \n",
    "\n",
    "lambda arguments : expression"
   ]
  },
  {
   "cell_type": "code",
   "execution_count": 12,
   "metadata": {},
   "outputs": [
    {
     "name": "stdout",
     "output_type": "stream",
     "text": [
      "15\n"
     ]
    }
   ],
   "source": [
    "x = lambda a : a + 10\n",
    "print(x(5))"
   ]
  },
  {
   "cell_type": "code",
   "execution_count": 13,
   "metadata": {},
   "outputs": [
    {
     "name": "stdout",
     "output_type": "stream",
     "text": [
      "30\n"
     ]
    }
   ],
   "source": [
    "x = lambda a, b : a * b\n",
    "print(x(5, 6))"
   ]
  },
  {
   "cell_type": "code",
   "execution_count": 15,
   "metadata": {},
   "outputs": [
    {
     "name": "stdout",
     "output_type": "stream",
     "text": [
      "Enter a number: 9\n",
      "9 is an odd number.\n"
     ]
    }
   ],
   "source": [
    "even = lambda N: N % 2 == 0\n",
    "\n",
    "n = int(input(\"Enter a number: \"))\n",
    "if even(n):\n",
    "    print(n,\"is an even number.\")\n",
    "else:\n",
    "    print(n,\"is an odd number.\")"
   ]
  },
  {
   "cell_type": "code",
   "execution_count": 18,
   "metadata": {},
   "outputs": [
    {
     "name": "stdout",
     "output_type": "stream",
     "text": [
      "2\n",
      "4\n",
      "6\n",
      "8\n",
      "10\n"
     ]
    }
   ],
   "source": [
    "even_list = [lambda arg=x: arg for x in range(1, 11) if x % 2 == 0]\n",
    "\n",
    "\n",
    "for item in even_list:\n",
    "    print(item())"
   ]
  },
  {
   "cell_type": "code",
   "execution_count": 23,
   "metadata": {},
   "outputs": [
    {
     "name": "stdout",
     "output_type": "stream",
     "text": [
      "[2, 4, 6, 8, 10, 12, 14, 16, 18, 20]\n"
     ]
    }
   ],
   "source": [
    "x = list(filter(lambda x:x % 2 == 0, range(1,21)))\n",
    "print(x)"
   ]
  },
  {
   "cell_type": "markdown",
   "metadata": {},
   "source": [
    "### <font color = 'green'>Test yourself</font>"
   ]
  },
  {
   "cell_type": "code",
   "execution_count": 4,
   "metadata": {},
   "outputs": [],
   "source": [
    "# Create a Python program that will demonstrate lambda."
   ]
  },
  {
   "cell_type": "code",
   "execution_count": null,
   "metadata": {},
   "outputs": [],
   "source": []
  }
 ],
 "metadata": {
  "kernelspec": {
   "display_name": "Python 3 (ipykernel)",
   "language": "python",
   "name": "python3"
  },
  "language_info": {
   "codemirror_mode": {
    "name": "ipython",
    "version": 3
   },
   "file_extension": ".py",
   "mimetype": "text/x-python",
   "name": "python",
   "nbconvert_exporter": "python",
   "pygments_lexer": "ipython3",
   "version": "3.11.8"
  }
 },
 "nbformat": 4,
 "nbformat_minor": 4
}
