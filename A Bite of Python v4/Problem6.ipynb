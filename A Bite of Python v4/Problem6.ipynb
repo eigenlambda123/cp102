{
 "cells": [
  {
   "cell_type": "code",
   "execution_count": null,
   "id": "e8d77419-35a5-4b7f-9b74-bf6faf174e48",
   "metadata": {},
   "outputs": [],
   "source": [
    "# Display a series of prime numbers based on user input.\n",
    "user_num = int(input(\"Give num: \"))\n",
    "\n",
    "# Prime Number Calculator\n",
    "def prime_number_checker(num):\n",
    "    if num <= 1:\n",
    "        return False\n",
    "    for i in range(2, (num//2)+1):\n",
    "        if (num%i) == 0:\n",
    "            return False\n",
    "    return True\n",
    "    \n",
    "# Generator\n",
    "def prime_number_generator(user_num):\n",
    "    prime_numbers = []\n",
    "    for i in range(1, user_num+1):\n",
    "        if prime_number_checker(i):\n",
    "            prime_numbers.append(i)\n",
    "    return prime_numbers\n",
    "    \n",
    "prime_number_generator(user_num)"
   ]
  }
 ],
 "metadata": {
  "kernelspec": {
   "display_name": "Python 3 (ipykernel)",
   "language": "python",
   "name": "python3"
  },
  "language_info": {
   "codemirror_mode": {
    "name": "ipython",
    "version": 3
   },
   "file_extension": ".py",
   "mimetype": "text/x-python",
   "name": "python",
   "nbconvert_exporter": "python",
   "pygments_lexer": "ipython3",
   "version": "3.9.9"
  }
 },
 "nbformat": 4,
 "nbformat_minor": 5
}
