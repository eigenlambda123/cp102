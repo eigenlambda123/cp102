{
 "cells": [
  {
   "cell_type": "code",
   "execution_count": null,
   "id": "d16b418c-9a5b-4a4f-bd01-d991ff59b0fc",
   "metadata": {},
   "outputs": [],
   "source": [
    "# Accept string input.\n",
    "# Display each charter of the string (vertical order)\n",
    "# Count and display total i charter in the string.\n",
    "\n",
    "user_input = input(\"Write anything: \").strip()\n",
    "\n",
    "if not user_input:\n",
    "    print(\"You didn't write anything.\")\n",
    "else:\n",
    "    counter = 0\n",
    "    for i in user_input:\n",
    "        if i != ' ':\n",
    "            counter += 1\n",
    "        print(i)\n",
    "\n",
    "    print(f\"The input you provided has {counter} characters excluding spaces.\")"
   ]
  }
 ],
 "metadata": {
  "kernelspec": {
   "display_name": "Python 3 (ipykernel)",
   "language": "python",
   "name": "python3"
  },
  "language_info": {
   "codemirror_mode": {
    "name": "ipython",
    "version": 3
   },
   "file_extension": ".py",
   "mimetype": "text/x-python",
   "name": "python",
   "nbconvert_exporter": "python",
   "pygments_lexer": "ipython3",
   "version": "3.9.9"
  }
 },
 "nbformat": 4,
 "nbformat_minor": 5
}
