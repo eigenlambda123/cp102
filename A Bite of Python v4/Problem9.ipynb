{
 "cells": [
  {
   "cell_type": "code",
   "execution_count": null,
   "id": "e3e21f5c-735f-457f-8371-a02739cf3a9f",
   "metadata": {},
   "outputs": [],
   "source": [
    "# Accept integer number and store it to a list until user input is 0.\n",
    "# Display the content of the list and size of the list.\n",
    "# Display the highest and lowest numbers in the list and the index number it can be found.\n",
    "\n",
    "nums = []\n",
    "\n",
    "while True:\n",
    "    try:\n",
    "        user_num = int(input(\"Give Num (0 to stop): \"))\n",
    "        if user_num == 0:\n",
    "            break\n",
    "        nums.append(user_num)\n",
    "    except ValueError:\n",
    "        print(\"Please enter a valid integer.\")\n",
    "\n",
    "def calculate_max_and_get_index(nums):\n",
    "    maxim = nums[0]  # Set max to the first index\n",
    "    max_index = 0    # index counter\n",
    "    for i in range(len(nums)):\n",
    "        if nums[i] > maxim:\n",
    "            maxim = nums[i]\n",
    "            max_index = i\n",
    "    return maxim, max_index\n",
    "\n",
    "\n",
    "def calculate_min_and_get_index(nums):\n",
    "    lowest = nums[0]  # Set min to the first index\n",
    "    min_index = 0 # index counter\n",
    "    for i in range(len(nums)):\n",
    "        if nums[i] < lowest:\n",
    "            lowest = nums[i]\n",
    "            min_index = i\n",
    "    return lowest, min_index\n",
    "\n",
    "max_number, max_number_index = calculate_max_and_get_index(nums)\n",
    "min_number, min_number_index = calculate_min_and_get_index(nums)\n",
    "\n",
    "print(f'Numbers: {nums}')\n",
    "print(f'Size of list: {len(nums)}')\n",
    "print(f'Highest number: {max_number}, Found in Index: {max_number_index}')\n",
    "print(f'Lowest number: {min_number}, Found in Index: {min_number_index}')"
   ]
  }
 ],
 "metadata": {
  "kernelspec": {
   "display_name": "Python 3 (ipykernel)",
   "language": "python",
   "name": "python3"
  },
  "language_info": {
   "codemirror_mode": {
    "name": "ipython",
    "version": 3
   },
   "file_extension": ".py",
   "mimetype": "text/x-python",
   "name": "python",
   "nbconvert_exporter": "python",
   "pygments_lexer": "ipython3",
   "version": "3.9.9"
  }
 },
 "nbformat": 4,
 "nbformat_minor": 5
}
