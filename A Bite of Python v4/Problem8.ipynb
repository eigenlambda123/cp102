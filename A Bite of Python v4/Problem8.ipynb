{
 "cells": [
  {
   "cell_type": "code",
   "execution_count": null,
   "id": "b461bae8-e999-4ec5-97a2-69898e5ca249",
   "metadata": {},
   "outputs": [],
   "source": [
    "# Accept integer number and store it to a list until user input is 0.\n",
    "# Display the content of the list and size of the list.\n",
    "# Display the highest and lowest numbers.\n",
    "\n",
    "nums = []\n",
    "\n",
    "# Input numbers from the user\n",
    "while True:\n",
    "    try:\n",
    "        user_num = int(input(\"Give Num (0 to stop): \"))\n",
    "        if user_num == 0:\n",
    "            break\n",
    "        nums.append(user_num)\n",
    "    except ValueError:\n",
    "        print(\"Please enter a valid integer.\")\n",
    "\n",
    "# Get Highest Number\n",
    "def calculate_max(nums):\n",
    "    maxim = nums[0]  # Set max to first index\n",
    "    for i in nums:\n",
    "        if i > maxim:\n",
    "            maxim = i\n",
    "    return maxim\n",
    "\n",
    "# Get Lowest Number\n",
    "def calculate_min(nums):\n",
    "    lowest = nums[0]  # Set min to first index\n",
    "    for i in nums:\n",
    "        if i < lowest:\n",
    "            lowest = i\n",
    "    return lowest\n",
    "\n",
    "print(f'Numbers: {nums}')\n",
    "print(f'Size of list: {len(nums)}')\n",
    "print(f'Highest number: {calculate_max(nums)}')\n",
    "print(f'Lowest number: {calculate_min(nums)}')\n"
   ]
  }
 ],
 "metadata": {
  "kernelspec": {
   "display_name": "Python 3 (ipykernel)",
   "language": "python",
   "name": "python3"
  },
  "language_info": {
   "codemirror_mode": {
    "name": "ipython",
    "version": 3
   },
   "file_extension": ".py",
   "mimetype": "text/x-python",
   "name": "python",
   "nbconvert_exporter": "python",
   "pygments_lexer": "ipython3",
   "version": "3.9.9"
  }
 },
 "nbformat": 4,
 "nbformat_minor": 5
}
