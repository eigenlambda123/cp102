{
 "cells": [
  {
   "cell_type": "code",
   "execution_count": 2,
   "id": "bcd0e377-8196-4215-a68e-c152f8655c11",
   "metadata": {},
   "outputs": [
    {
     "name": "stdin",
     "output_type": "stream",
     "text": [
      "Enter Integer 1/10 (Or write 'generate' to auto-generate 1-10):  generate\n"
     ]
    },
    {
     "name": "stdout",
     "output_type": "stream",
     "text": [
      "Auto generated numbers: [1, 2, 3, 4, 5, 6, 7, 8, 9, 10]\n",
      "\n",
      "Numbers: [1, 2, 3, 4, 5, 6, 7, 8, 9, 10]\n",
      "Odd: 5\n",
      "Even: 5\n"
     ]
    }
   ],
   "source": [
    "nums = []\n",
    "even, odd = 0, 0\n",
    "\n",
    "while len(nums) < 10:\n",
    "    user_input = input(f\"Enter Integer {len(nums) + 1}/10 (Or write 'generate' to auto-generate 1-10): \").strip().lower()\n",
    "    \n",
    "    if user_input == \"generate\":\n",
    "        nums = list(range(1, 11))  # Generate numbers 0-9\n",
    "        print(\"Auto generated numbers:\", nums)\n",
    "        break\n",
    "    try:\n",
    "        nums_to_int = int(user_input) \n",
    "        nums.append(nums_to_int)\n",
    "    except ValueError:\n",
    "        print(\"Invalid input. Please enter a valid integer.\")\n",
    "\n",
    "# Count even and odd numbers\n",
    "for i in nums:\n",
    "    if i % 2 == 0:\n",
    "        even += 1\n",
    "    else:\n",
    "        odd += 1\n",
    "\n",
    "# Display the results\n",
    "print(f\"\\nNumbers: {nums}\")\n",
    "print(f\"Odd: {odd}\")\n",
    "print(f\"Even: {even}\")"
   ]
  },
  {
   "cell_type": "code",
   "execution_count": null,
   "id": "67b88563-e440-4275-8e77-f167bda77e32",
   "metadata": {},
   "outputs": [],
   "source": []
  }
 ],
 "metadata": {
  "kernelspec": {
   "display_name": "Python 3 (ipykernel)",
   "language": "python",
   "name": "python3"
  },
  "language_info": {
   "codemirror_mode": {
    "name": "ipython",
    "version": 3
   },
   "file_extension": ".py",
   "mimetype": "text/x-python",
   "name": "python",
   "nbconvert_exporter": "python",
   "pygments_lexer": "ipython3",
   "version": "3.9.9"
  }
 },
 "nbformat": 4,
 "nbformat_minor": 5
}
