{
 "cells": [
  {
   "cell_type": "markdown",
   "id": "7cfbbbae-1e6c-498d-a76a-547241098e8d",
   "metadata": {},
   "source": [
    "## Rodmark Bernard A. Villa\n",
    "**Prelim Task1**\n",
    "\n",
    "This Python program implements a simple Student and Course Management System that allows users to:\n",
    "\n",
    "- Add Courses\n",
    "- Check Available Courses and Manage Students within them\n",
    "- Delete Courses\n",
    "- Exit the Program\n",
    "\n",
    "---\n",
    "\n",
    "## Class Structure\n",
    "\n",
    "### `Student` Class\n",
    "Manages individual student details.\n",
    "- **Attributes:**\n",
    "  - `__name`: Name of the student (private)\n",
    "  - `__student_id`: Unique identifier for the student (private)\n",
    "- **Methods:**\n",
    "  - `display()`: Returns a formatted string of the student's name and ID.\n",
    "\n",
    "### `Course` Class\n",
    "Handles course details and student enrollment.\n",
    "- **Attributes:**\n",
    "  - `__course_name`: Name of the course (private)\n",
    "  - `__students`: List of enrolled students (private)\n",
    "- **Methods:**\n",
    "  - `add_student(student)`: Adds a student to the course.\n",
    "  - `remove_student(student_id)`: Removes a student by their ID.\n",
    "  - `get_students()`: Returns a list of enrolled students.\n",
    "  - `display_course()`: Displays the course name and list of enrolled students.\n",
    "\n",
    "---\n",
    "\n",
    "## Main Program Flow\n",
    "\n",
    "### Menu Options:\n",
    "1. **Add Course**  \n",
    "   - Prompts the user for the course name and adds the course to the list of courses.\n",
    "\n",
    "2. **Check Courses**  \n",
    "   - Displays all available courses.\n",
    "   - Allows the user to:\n",
    "     - **Add Student**: Add a new student by entering their name and ID.\n",
    "     - **Remove Student**: Remove a student using their ID.\n",
    "     - **View Students**: Displays all students enrolled in the selected course.\n",
    "     - **Go Back**: Returns to the main menu.\n",
    "\n",
    "3. **Delete a Course**  \n",
    "   - Displays the list of available courses.\n",
    "   - Prompts the user to select a course to delete by its number.\n",
    "\n",
    "4. **Exit**  \n",
    "   - Terminates the program.\n",
    "\n",
    "---\n",
    "\n"
   ]
  },
  {
   "cell_type": "code",
   "execution_count": 2,
   "id": "4ac689ed-4a9b-4032-af1e-c8b476bd777d",
   "metadata": {},
   "outputs": [
    {
     "name": "stdout",
     "output_type": "stream",
     "text": [
      "\n",
      "What do you want to do:\n",
      "1. Add Course\n",
      "2. Check Courses\n",
      "3. Delete a Course\n",
      "4. Exit\n",
      "\n"
     ]
    },
    {
     "name": "stdin",
     "output_type": "stream",
     "text": [
      "Enter your choice:  1\n",
      "Enter the course name:  Programming\n"
     ]
    },
    {
     "name": "stdout",
     "output_type": "stream",
     "text": [
      "Programming course added!\n",
      "\n",
      "\n",
      "What do you want to do:\n",
      "1. Add Course\n",
      "2. Check Courses\n",
      "3. Delete a Course\n",
      "4. Exit\n",
      "\n"
     ]
    },
    {
     "name": "stdin",
     "output_type": "stream",
     "text": [
      "Enter your choice:  1\n",
      "Enter the course name:  Linear Algebra\n"
     ]
    },
    {
     "name": "stdout",
     "output_type": "stream",
     "text": [
      "Linear Algebra course added!\n",
      "\n",
      "\n",
      "What do you want to do:\n",
      "1. Add Course\n",
      "2. Check Courses\n",
      "3. Delete a Course\n",
      "4. Exit\n",
      "\n"
     ]
    },
    {
     "name": "stdin",
     "output_type": "stream",
     "text": [
      "Enter your choice:  1\n",
      "Enter the course name:  Probability and Statistics\n"
     ]
    },
    {
     "name": "stdout",
     "output_type": "stream",
     "text": [
      "Probability and Statistics course added!\n",
      "\n",
      "\n",
      "What do you want to do:\n",
      "1. Add Course\n",
      "2. Check Courses\n",
      "3. Delete a Course\n",
      "4. Exit\n",
      "\n"
     ]
    },
    {
     "name": "stdin",
     "output_type": "stream",
     "text": [
      "Enter your choice:  3\n"
     ]
    },
    {
     "name": "stdout",
     "output_type": "stream",
     "text": [
      "Available Courses:\n",
      "1. Programming\n",
      "2. Linear Algebra\n",
      "3. Probability and Statistics\n"
     ]
    },
    {
     "name": "stdin",
     "output_type": "stream",
     "text": [
      "Enter the number of the course to delete:  3\n"
     ]
    },
    {
     "name": "stdout",
     "output_type": "stream",
     "text": [
      "Probability and Statistics has been deleted.\n",
      "\n",
      "\n",
      "What do you want to do:\n",
      "1. Add Course\n",
      "2. Check Courses\n",
      "3. Delete a Course\n",
      "4. Exit\n",
      "\n"
     ]
    },
    {
     "name": "stdin",
     "output_type": "stream",
     "text": [
      "Enter your choice:  2\n"
     ]
    },
    {
     "name": "stdout",
     "output_type": "stream",
     "text": [
      "\n",
      "--------------------------------------------------\n",
      "Available Courses:\n",
      "0. Go Back\n",
      "1. Programming\n",
      "2. Linear Algebra\n"
     ]
    },
    {
     "name": "stdin",
     "output_type": "stream",
     "text": [
      "Select a course by number:  1\n"
     ]
    },
    {
     "name": "stdout",
     "output_type": "stream",
     "text": [
      "\n",
      "Course: Programming\n",
      "What do you want to do:\n",
      "1. Add Student\n",
      "2. Remove Student\n",
      "3. View Students\n",
      "4. Go Back\n",
      "\n"
     ]
    },
    {
     "name": "stdin",
     "output_type": "stream",
     "text": [
      "Enter your choice:  1\n",
      "Enter student name:  Ansary S. Saricala\n",
      "Enter student ID:  A24-40008\n"
     ]
    },
    {
     "name": "stdout",
     "output_type": "stream",
     "text": [
      "Student Ansary S. Saricala added!\n",
      "\n",
      "\n",
      "Course: Programming\n",
      "What do you want to do:\n",
      "1. Add Student\n",
      "2. Remove Student\n",
      "3. View Students\n",
      "4. Go Back\n",
      "\n"
     ]
    },
    {
     "name": "stdin",
     "output_type": "stream",
     "text": [
      "Enter your choice:  1\n",
      "Enter student name:  Rodmark Bernard A. Villa\n",
      "Enter student ID:  A24-40009\n"
     ]
    },
    {
     "name": "stdout",
     "output_type": "stream",
     "text": [
      "Student Rodmark Bernard A. Villa added!\n",
      "\n",
      "\n",
      "Course: Programming\n",
      "What do you want to do:\n",
      "1. Add Student\n",
      "2. Remove Student\n",
      "3. View Students\n",
      "4. Go Back\n",
      "\n"
     ]
    },
    {
     "name": "stdin",
     "output_type": "stream",
     "text": [
      "Enter your choice:  Elija S. Salvan\n"
     ]
    },
    {
     "name": "stdout",
     "output_type": "stream",
     "text": [
      "Please type a valid input!\n",
      "\n",
      "\n",
      "Course: Programming\n",
      "What do you want to do:\n",
      "1. Add Student\n",
      "2. Remove Student\n",
      "3. View Students\n",
      "4. Go Back\n",
      "\n"
     ]
    },
    {
     "name": "stdin",
     "output_type": "stream",
     "text": [
      "Enter your choice:  1\n",
      "Enter student name:  Elija S. Salvan\n",
      "Enter student ID:  A24-3890\n"
     ]
    },
    {
     "name": "stdout",
     "output_type": "stream",
     "text": [
      "Student Elija S. Salvan added!\n",
      "\n",
      "\n",
      "Course: Programming\n",
      "What do you want to do:\n",
      "1. Add Student\n",
      "2. Remove Student\n",
      "3. View Students\n",
      "4. Go Back\n",
      "\n"
     ]
    },
    {
     "name": "stdin",
     "output_type": "stream",
     "text": [
      "Enter your choice:  3\n"
     ]
    },
    {
     "name": "stdout",
     "output_type": "stream",
     "text": [
      "\n",
      "Course: Programming\n",
      "Enrolled Students:\n",
      "  - Name: Ansary S. Saricala, ID: A24-40008\n",
      "  - Name: Rodmark Bernard A. Villa, ID: A24-40009\n",
      "  - Name: Elija S. Salvan, ID: A24-3890\n",
      "\n",
      "Course: Programming\n",
      "What do you want to do:\n",
      "1. Add Student\n",
      "2. Remove Student\n",
      "3. View Students\n",
      "4. Go Back\n",
      "\n"
     ]
    },
    {
     "name": "stdin",
     "output_type": "stream",
     "text": [
      "Enter your choice:  2\n"
     ]
    },
    {
     "name": "stdout",
     "output_type": "stream",
     "text": [
      "\n",
      "Enrolled Students:\n",
      "  - Name: Ansary S. Saricala, ID: A24-40008\n",
      "  - Name: Rodmark Bernard A. Villa, ID: A24-40009\n",
      "  - Name: Elija S. Salvan, ID: A24-3890\n",
      "  0. Cancel\n"
     ]
    },
    {
     "name": "stdin",
     "output_type": "stream",
     "text": [
      "\n",
      "Enter the student ID to remove (or 0 to Cancel):  0\n"
     ]
    },
    {
     "name": "stdout",
     "output_type": "stream",
     "text": [
      "Cancelled student removal.\n",
      "\n",
      "\n",
      "Course: Programming\n",
      "What do you want to do:\n",
      "1. Add Student\n",
      "2. Remove Student\n",
      "3. View Students\n",
      "4. Go Back\n",
      "\n"
     ]
    },
    {
     "name": "stdin",
     "output_type": "stream",
     "text": [
      "Enter your choice:  2\n"
     ]
    },
    {
     "name": "stdout",
     "output_type": "stream",
     "text": [
      "\n",
      "Enrolled Students:\n",
      "  - Name: Ansary S. Saricala, ID: A24-40008\n",
      "  - Name: Rodmark Bernard A. Villa, ID: A24-40009\n",
      "  - Name: Elija S. Salvan, ID: A24-3890\n",
      "  0. Cancel\n"
     ]
    },
    {
     "name": "stdin",
     "output_type": "stream",
     "text": [
      "\n",
      "Enter the student ID to remove (or 0 to Cancel):  A24-3890\n"
     ]
    },
    {
     "name": "stdout",
     "output_type": "stream",
     "text": [
      "Student removed!\n",
      "\n",
      "\n",
      "Course: Programming\n",
      "What do you want to do:\n",
      "1. Add Student\n",
      "2. Remove Student\n",
      "3. View Students\n",
      "4. Go Back\n",
      "\n"
     ]
    },
    {
     "name": "stdin",
     "output_type": "stream",
     "text": [
      "Enter your choice:  4\n"
     ]
    },
    {
     "name": "stdout",
     "output_type": "stream",
     "text": [
      "\n",
      "--------------------------------------------------\n",
      "Available Courses:\n",
      "0. Go Back\n",
      "1. Programming\n",
      "2. Linear Algebra\n"
     ]
    },
    {
     "name": "stdin",
     "output_type": "stream",
     "text": [
      "Select a course by number:  0\n"
     ]
    },
    {
     "name": "stdout",
     "output_type": "stream",
     "text": [
      "\n",
      "What do you want to do:\n",
      "1. Add Course\n",
      "2. Check Courses\n",
      "3. Delete a Course\n",
      "4. Exit\n",
      "\n"
     ]
    },
    {
     "name": "stdin",
     "output_type": "stream",
     "text": [
      "Enter your choice:  4\n"
     ]
    },
    {
     "name": "stdout",
     "output_type": "stream",
     "text": [
      "Goodbye!\n"
     ]
    }
   ],
   "source": [
    "class Student:\n",
    "    def __init__(self, name, student_id):\n",
    "        self.__name = name \n",
    "        self.__student_id = student_id \n",
    "    \n",
    "    def get_name(self):\n",
    "        return self.__name\n",
    "    \n",
    "    def set_name(self, name):\n",
    "        self.__name = name\n",
    "    \n",
    "    def get_student_id(self):\n",
    "        return self.__student_id\n",
    "    \n",
    "    def set_student_id(self, student_id):\n",
    "        self.__student_id = student_id\n",
    "    \n",
    "    def display(self):\n",
    "        return f\"Name: {self.__name}, ID: {self.__student_id}\"\n",
    "\n",
    "\n",
    "class Course:\n",
    "    def __init__(self, course_name):\n",
    "        self.__course_name = course_name  \n",
    "        self.__students = [] \n",
    "    \n",
    "    def get_course_name(self):\n",
    "        return self.__course_name\n",
    "    \n",
    "    def set_course_name(self, course_name):\n",
    "        self.__course_name = course_name\n",
    "    \n",
    "    def add_student(self, student):\n",
    "        self.__students.append(student)\n",
    "    \n",
    "    def remove_student(self, student_id):\n",
    "        for student in self.__students:\n",
    "            if student.get_student_id() == student_id:\n",
    "                self.__students.remove(student)\n",
    "                return True\n",
    "        return False\n",
    "    \n",
    "    def get_students(self):\n",
    "        return self.__students\n",
    "    \n",
    "    def display_course(self):\n",
    "        print(f\"\\nCourse: {self.__course_name}\")\n",
    "        print(\"Enrolled Students:\")\n",
    "        if not self.__students:\n",
    "            print(\"  - No students enrolled.\")\n",
    "        else:\n",
    "            for student in self.__students:\n",
    "                print(f\"  - {student.display()}\")\n",
    "\n",
    "\n",
    "if __name__ == \"__main__\":\n",
    "    courses = []  # List of courses\n",
    "    \n",
    "    while True:\n",
    "        print(\"\"\"\n",
    "What do you want to do:\n",
    "1. Add Course\n",
    "2. Check Courses\n",
    "3. Delete a Course\n",
    "4. Exit\n",
    "\"\"\")\n",
    "        user_input = input(\"Enter your choice: \")\n",
    "\n",
    "        # Add Course\n",
    "        if user_input == '1':\n",
    "            course_name = input(\"Enter the course name: \")\n",
    "            course = Course(course_name)\n",
    "            courses.append(course)\n",
    "            print(f\"{course_name} course added!\\n\")\n",
    "\n",
    "        # Display All Courses and Choose Action\n",
    "        elif user_input == '2':\n",
    "            if not courses:\n",
    "                print(\"No courses available.\\n\")\n",
    "            else:\n",
    "                while True:\n",
    "                    print()\n",
    "                    print(\"--------------------------------------------------\")\n",
    "                    print(\"Available Courses:\")\n",
    "                    print(\"0. Go Back\")\n",
    "                    for i, course in enumerate(courses):\n",
    "                        print(f\"{i+1}. {course.get_course_name()}\")\n",
    "\n",
    "                    course_choice = input(\"Select a course by number: \")\n",
    "\n",
    "                    # Validate Input\n",
    "                    if not course_choice.isdigit():\n",
    "                        print(\"Invalid input. Please enter a number.\\n\")\n",
    "                        continue\n",
    "\n",
    "                    course_choice = int(course_choice) - 1\n",
    "                    \n",
    "                    if course_choice == -1:\n",
    "                        break\n",
    "                    \n",
    "                    if 0 <= course_choice < len(courses):\n",
    "                        selected_course = courses[course_choice]\n",
    "                        \n",
    "                        while True:\n",
    "                            print(f\"\"\"\n",
    "Course: {selected_course.get_course_name()}\n",
    "What do you want to do:\n",
    "1. Add Student\n",
    "2. Remove Student\n",
    "3. View Students\n",
    "4. Go Back\n",
    "\"\"\")\n",
    "                            user_course_input = input(\"Enter your choice: \")\n",
    "                            \n",
    "                            if user_course_input == '1':\n",
    "                                student_name = input(\"Enter student name: \")\n",
    "                                student_id = input(\"Enter student ID: \")\n",
    "                                student = Student(student_name, student_id)\n",
    "                                selected_course.add_student(student)\n",
    "                                print(f\"Student {student_name} added!\\n\")\n",
    "                            \n",
    "                            elif user_course_input == '2':\n",
    "                                if not selected_course.get_students():\n",
    "                                    print(\"No students to remove.\\n\")\n",
    "                                    continue\n",
    "                                \n",
    "                                print(\"\\nEnrolled Students:\")\n",
    "                                for student in selected_course.get_students():\n",
    "                                    print(f\"  - {student.display()}\")\n",
    "                                print(\"  0. Cancel\")\n",
    "\n",
    "                                student_id = input(\"\\nEnter the student ID to remove (or 0 to Cancel): \")\n",
    "                                \n",
    "                                # Cancel Option\n",
    "                                if student_id == '0':\n",
    "                                    print(\"Cancelled student removal.\\n\")\n",
    "                                    continue\n",
    "                                \n",
    "                                if selected_course.remove_student(student_id):\n",
    "                                    print(\"Student removed!\\n\")\n",
    "                                else:\n",
    "                                    print(\"Student not found.\\n\")\n",
    "                            \n",
    "                            elif user_course_input == '3':\n",
    "                                selected_course.display_course()\n",
    "                            \n",
    "                            elif user_course_input == '4':\n",
    "                                break\n",
    "                            \n",
    "                            else:\n",
    "                                print(\"Please type a valid input!\\n\")\n",
    "                    \n",
    "                    else:\n",
    "                        print(\"Invalid course selection. Please try again.\\n\")\n",
    "\n",
    "        # Delete Course\n",
    "        elif user_input == '3':\n",
    "            if not courses:\n",
    "                print(\"No courses to delete.\\n\")\n",
    "            else:\n",
    "                print(\"Available Courses:\")\n",
    "                for i, course in enumerate(courses):\n",
    "                    print(f\"{i+1}. {course.get_course_name()}\")\n",
    "                del_choice = input(\"Enter the number of the course to delete: \")\n",
    "\n",
    "                # Validate Input\n",
    "                if not del_choice.isdigit():\n",
    "                    print(\"Invalid input. Please enter a number.\\n\")\n",
    "                    continue\n",
    "\n",
    "                del_choice = int(del_choice) - 1\n",
    "                \n",
    "                if 0 <= del_choice < len(courses):\n",
    "                    removed_course = courses.pop(del_choice)\n",
    "                    print(f\"{removed_course.get_course_name()} has been deleted.\\n\")\n",
    "                else:\n",
    "                    print(\"Invalid selection. Please try again.\\n\")\n",
    "        \n",
    "        elif user_input == '4':\n",
    "            print(\"Goodbye!\")\n",
    "            break\n",
    "        \n",
    "        else:\n",
    "            print(\"Please type a valid input!\")\n"
   ]
  },
  {
   "cell_type": "code",
   "execution_count": null,
   "id": "18ac9a4c-5d90-4ad1-a6a9-fe82704d599f",
   "metadata": {},
   "outputs": [],
   "source": []
  }
 ],
 "metadata": {
  "kernelspec": {
   "display_name": "Python 3 (ipykernel)",
   "language": "python",
   "name": "python3"
  },
  "language_info": {
   "codemirror_mode": {
    "name": "ipython",
    "version": 3
   },
   "file_extension": ".py",
   "mimetype": "text/x-python",
   "name": "python",
   "nbconvert_exporter": "python",
   "pygments_lexer": "ipython3",
   "version": "3.10.0"
  }
 },
 "nbformat": 4,
 "nbformat_minor": 5
}
