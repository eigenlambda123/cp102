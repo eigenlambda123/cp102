{
 "cells": [
  {
   "cell_type": "code",
   "execution_count": null,
   "id": "a3bd8e0a-46dd-45f8-b43b-3d4c11e47636",
   "metadata": {},
   "outputs": [],
   "source": [
    "# Accept an integer number.\n",
    "# Compute and display the factorial of the number.\n",
    "num = int(input('Enter a number: '))\n",
    "\n",
    "def factorial(num):\n",
    "    if num <= 1:\n",
    "        return 1\n",
    "    else:\n",
    "        return num * factorial(num - 1)\n",
    "\n",
    "print(f'Factorial of {num}: {factorial(num)}')"
   ]
  }
 ],
 "metadata": {
  "kernelspec": {
   "display_name": "Python 3 (ipykernel)",
   "language": "python",
   "name": "python3"
  },
  "language_info": {
   "codemirror_mode": {
    "name": "ipython",
    "version": 3
   },
   "file_extension": ".py",
   "mimetype": "text/x-python",
   "name": "python",
   "nbconvert_exporter": "python",
   "pygments_lexer": "ipython3",
   "version": "3.9.9"
  }
 },
 "nbformat": 4,
 "nbformat_minor": 5
}
